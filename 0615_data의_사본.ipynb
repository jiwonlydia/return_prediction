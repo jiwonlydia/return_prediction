{
  "nbformat": 4,
  "nbformat_minor": 0,
  "metadata": {
    "colab": {
      "name": "0615_data의 사본",
      "provenance": [],
      "collapsed_sections": [
        "fQGC2EBjOcpZ",
        "afxm5qvLg8Y7",
        "b6qb9xiyhAsL",
        "6ZqZZSZudhem"
      ],
      "authorship_tag": "ABX9TyPzZJTbXIAKjEZoUflnvdxw",
      "include_colab_link": true
    },
    "kernelspec": {
      "name": "python3",
      "display_name": "Python 3"
    },
    "language_info": {
      "name": "python"
    }
  },
  "cells": [
    {
      "cell_type": "markdown",
      "metadata": {
        "id": "view-in-github",
        "colab_type": "text"
      },
      "source": [
        "<a href=\"https://colab.research.google.com/github/jiwonlydia/return_prediction/blob/main/0615_data%EC%9D%98_%EC%82%AC%EB%B3%B8.ipynb\" target=\"_parent\"><img src=\"https://colab.research.google.com/assets/colab-badge.svg\" alt=\"Open In Colab\"/></a>"
      ]
    },
    {
      "cell_type": "markdown",
      "source": [
        "공식 깃허브: https://github.com/LouisChen1992/Deep_Learning_Asset_Pricing"
      ],
      "metadata": {
        "id": "cPjMM4PE7kaN"
      }
    },
    {
      "cell_type": "markdown",
      "source": [
        "# Colab Setup"
      ],
      "metadata": {
        "id": "fQGC2EBjOcpZ"
      }
    },
    {
      "cell_type": "code",
      "execution_count": null,
      "metadata": {
        "colab": {
          "base_uri": "https://localhost:8080/"
        },
        "id": "-MFAaRefOhe2",
        "outputId": "99f3aa8b-b539-4748-cb0e-10f0ef1cc581"
      },
      "outputs": [
        {
          "output_type": "stream",
          "name": "stdout",
          "text": [
            "Drive already mounted at /content/drive; to attempt to forcibly remount, call drive.mount(\"/content/drive\", force_remount=True).\n"
          ]
        }
      ],
      "source": [
        "from google.colab import drive\n",
        "drive.mount('/content/drive')"
      ]
    },
    {
      "cell_type": "code",
      "source": [
        "import os\n",
        "path = '/content/drive/MyDrive/research/return_prediction/dlap'\n",
        "os.chdir(path)"
      ],
      "metadata": {
        "id": "e4EAqmKPOkww"
      },
      "execution_count": null,
      "outputs": []
    },
    {
      "cell_type": "code",
      "source": [
        "pip install tensorflow==1.14.0"
      ],
      "metadata": {
        "colab": {
          "base_uri": "https://localhost:8080/"
        },
        "id": "_B3wNT--ypLg",
        "outputId": "fd66ceba-45db-4500-91e1-85c87d3fb250"
      },
      "execution_count": null,
      "outputs": [
        {
          "output_type": "stream",
          "name": "stdout",
          "text": [
            "Looking in indexes: https://pypi.org/simple, https://us-python.pkg.dev/colab-wheels/public/simple/\n",
            "Requirement already satisfied: tensorflow==1.14.0 in /usr/local/lib/python3.7/dist-packages (1.14.0)\n",
            "Requirement already satisfied: astor>=0.6.0 in /usr/local/lib/python3.7/dist-packages (from tensorflow==1.14.0) (0.8.1)\n",
            "Requirement already satisfied: termcolor>=1.1.0 in /usr/local/lib/python3.7/dist-packages (from tensorflow==1.14.0) (1.1.0)\n",
            "Requirement already satisfied: google-pasta>=0.1.6 in /usr/local/lib/python3.7/dist-packages (from tensorflow==1.14.0) (0.2.0)\n",
            "Requirement already satisfied: keras-preprocessing>=1.0.5 in /usr/local/lib/python3.7/dist-packages (from tensorflow==1.14.0) (1.1.2)\n",
            "Requirement already satisfied: protobuf>=3.6.1 in /usr/local/lib/python3.7/dist-packages (from tensorflow==1.14.0) (3.17.3)\n",
            "Requirement already satisfied: tensorboard<1.15.0,>=1.14.0 in /usr/local/lib/python3.7/dist-packages (from tensorflow==1.14.0) (1.14.0)\n",
            "Requirement already satisfied: tensorflow-estimator<1.15.0rc0,>=1.14.0rc0 in /usr/local/lib/python3.7/dist-packages (from tensorflow==1.14.0) (1.14.0)\n",
            "Requirement already satisfied: grpcio>=1.8.6 in /usr/local/lib/python3.7/dist-packages (from tensorflow==1.14.0) (1.46.3)\n",
            "Requirement already satisfied: wrapt>=1.11.1 in /usr/local/lib/python3.7/dist-packages (from tensorflow==1.14.0) (1.14.1)\n",
            "Requirement already satisfied: gast>=0.2.0 in /usr/local/lib/python3.7/dist-packages (from tensorflow==1.14.0) (0.5.3)\n",
            "Requirement already satisfied: six>=1.10.0 in /usr/local/lib/python3.7/dist-packages (from tensorflow==1.14.0) (1.15.0)\n",
            "Requirement already satisfied: numpy<2.0,>=1.14.5 in /usr/local/lib/python3.7/dist-packages (from tensorflow==1.14.0) (1.21.6)\n",
            "Requirement already satisfied: keras-applications>=1.0.6 in /usr/local/lib/python3.7/dist-packages (from tensorflow==1.14.0) (1.0.8)\n",
            "Requirement already satisfied: absl-py>=0.7.0 in /usr/local/lib/python3.7/dist-packages (from tensorflow==1.14.0) (1.1.0)\n",
            "Requirement already satisfied: wheel>=0.26 in /usr/local/lib/python3.7/dist-packages (from tensorflow==1.14.0) (0.37.1)\n",
            "Requirement already satisfied: h5py in /usr/local/lib/python3.7/dist-packages (from keras-applications>=1.0.6->tensorflow==1.14.0) (3.1.0)\n",
            "Requirement already satisfied: setuptools>=41.0.0 in /usr/local/lib/python3.7/dist-packages (from tensorboard<1.15.0,>=1.14.0->tensorflow==1.14.0) (57.4.0)\n",
            "Requirement already satisfied: werkzeug>=0.11.15 in /usr/local/lib/python3.7/dist-packages (from tensorboard<1.15.0,>=1.14.0->tensorflow==1.14.0) (1.0.1)\n",
            "Requirement already satisfied: markdown>=2.6.8 in /usr/local/lib/python3.7/dist-packages (from tensorboard<1.15.0,>=1.14.0->tensorflow==1.14.0) (3.3.7)\n",
            "Requirement already satisfied: importlib-metadata>=4.4 in /usr/local/lib/python3.7/dist-packages (from markdown>=2.6.8->tensorboard<1.15.0,>=1.14.0->tensorflow==1.14.0) (4.11.4)\n",
            "Requirement already satisfied: typing-extensions>=3.6.4 in /usr/local/lib/python3.7/dist-packages (from importlib-metadata>=4.4->markdown>=2.6.8->tensorboard<1.15.0,>=1.14.0->tensorflow==1.14.0) (4.2.0)\n",
            "Requirement already satisfied: zipp>=0.5 in /usr/local/lib/python3.7/dist-packages (from importlib-metadata>=4.4->markdown>=2.6.8->tensorboard<1.15.0,>=1.14.0->tensorflow==1.14.0) (3.8.0)\n",
            "Requirement already satisfied: cached-property in /usr/local/lib/python3.7/dist-packages (from h5py->keras-applications>=1.0.6->tensorflow==1.14.0) (1.5.2)\n"
          ]
        }
      ]
    },
    {
      "cell_type": "markdown",
      "source": [
        "# Config"
      ],
      "metadata": {
        "id": "afxm5qvLg8Y7"
      }
    },
    {
      "cell_type": "code",
      "source": [
        "import os\n",
        "import json\n",
        "import numpy as np\n",
        "import matplotlib.pyplot as plt\n",
        "\n",
        "import tensorflow as tf\n",
        "print(tf.__version__)\n",
        "\n",
        "from src.data import data_layer\n",
        "from src.utils import deco_print"
      ],
      "metadata": {
        "id": "h4EaaThTOqqC",
        "colab": {
          "base_uri": "https://localhost:8080/"
        },
        "outputId": "09e340a5-bc49-4506-b96d-fbb36f980f19"
      },
      "execution_count": null,
      "outputs": [
        {
          "output_type": "stream",
          "name": "stdout",
          "text": [
            "1.14.0\n"
          ]
        }
      ]
    },
    {
      "cell_type": "code",
      "source": [
        "#### Delete all flags before declare #####\n",
        "\n",
        "def del_all_flags(FLAGS):\n",
        "    flags_dict = FLAGS._flags()    \n",
        "    keys_list = [keys for keys in flags_dict]    \n",
        "    for keys in keys_list:\n",
        "        FLAGS.__delattr__(keys)"
      ],
      "metadata": {
        "id": "d4Bf5D6SR6RP"
      },
      "execution_count": null,
      "outputs": []
    },
    {
      "cell_type": "markdown",
      "source": [
        "- tensorflow의 flag란?\n",
        "- https://daeson.tistory.com/256"
      ],
      "metadata": {
        "id": "pXv6SbUwVMIa"
      }
    },
    {
      "cell_type": "code",
      "source": [
        "del_all_flags(tf.flags.FLAGS)\n",
        "tf.flags.DEFINE_string(\"f\", \"\", \"kernel\") # 주피터 노트북에서 돌릴땐 이 코드 추가해야 돌아감\n",
        "\n",
        "tf.flags.DEFINE_string('config', path+'/config/config.json', 'Path to the file with configurations')\n",
        "tf.flags.DEFINE_string('logdir', '', 'Path to save logs and checkpoints')\n",
        "\n",
        "tf.flags.DEFINE_integer('saveBestFreq', -1, 'Frequency to save best model')\n",
        "tf.flags.DEFINE_boolean('printOnConsole', True, 'Print on console or not')\n",
        "tf.flags.DEFINE_boolean('saveLog', True, 'Save log or not')\n",
        "tf.flags.DEFINE_integer('printFreq', 128, 'Frequency to print on console')\n",
        "tf.flags.DEFINE_integer('ignoreEpoch', 64, 'Ignore first several epochs')\n",
        "\n",
        "FLAGS = tf.flags.FLAGS"
      ],
      "metadata": {
        "id": "Jzx2JmBrO4G4"
      },
      "execution_count": null,
      "outputs": []
    },
    {
      "cell_type": "code",
      "source": [
        "with open(FLAGS.config, 'r') as file:\n",
        "    config = json.load(file)\n",
        "    if not 'macro_idx' in config:\n",
        "        config['macro_idx'] = None\n",
        "\n",
        "deco_print('Read the following in config: ')\n",
        "print(json.dumps(config, indent=4))"
      ],
      "metadata": {
        "colab": {
          "base_uri": "https://localhost:8080/"
        },
        "id": "97zcXLnWW-rw",
        "outputId": "a65ba03d-6f7b-49d5-ba2d-561a0670f2d6"
      },
      "execution_count": null,
      "outputs": [
        {
          "output_type": "stream",
          "name": "stdout",
          "text": [
            ">==================> Read the following in config: \n",
            "{\n",
            "    \"learning_rate\": 0.001,\n",
            "    \"num_layers_moment\": 0,\n",
            "    \"num_units_rnn\": [\n",
            "        8\n",
            "    ],\n",
            "    \"macro_feature_file_test\": \"datasets/macro/macro_test.npz\",\n",
            "    \"optimizer\": \"Adam\",\n",
            "    \"macro_feature_file\": \"datasets/macro/macro_train.npz\",\n",
            "    \"use_rnn\": true,\n",
            "    \"weighted_loss\": true,\n",
            "    \"hidden_dim\": [\n",
            "        64,\n",
            "        64\n",
            "    ],\n",
            "    \"cell_type_rnn_moment\": \"lstm\",\n",
            "    \"cell_type_rnn\": \"lstm\",\n",
            "    \"macro_feature_file_valid\": \"datasets/macro/macro_valid.npz\",\n",
            "    \"num_epochs_moment\": 64,\n",
            "    \"tSize\": 192,\n",
            "    \"tSize_valid\": 60,\n",
            "    \"tSize_test\": 60,\n",
            "    \"individual_feature_dim\": 48,\n",
            "    \"macro_feature_dim\": 127,\n",
            "    \"num_condition_moment\": 8,\n",
            "    \"loss_factor\": 1.0,\n",
            "    \"num_layers_rnn_moment\": 1,\n",
            "    \"individual_feature_file_valid\": \"datasets/char/Char_valid.npz\",\n",
            "    \"num_epochs\": 1024,\n",
            "    \"individual_feature_file\": \"datasets/char/Char_train.npz\",\n",
            "    \"num_units_rnn_moment\": [\n",
            "        32\n",
            "    ],\n",
            "    \"num_epochs_unc\": 256,\n",
            "    \"dropout\": 0.95,\n",
            "    \"num_layers_rnn\": 1,\n",
            "    \"sub_epoch\": 4,\n",
            "    \"individual_feature_file_test\": \"datasets/char/Char_test.npz\",\n",
            "    \"hidden_dim_moment\": [],\n",
            "    \"num_layers\": 2,\n",
            "    \"macro_idx\": null\n",
            "}\n"
          ]
        }
      ]
    },
    {
      "cell_type": "markdown",
      "source": [
        "# datalayer"
      ],
      "metadata": {
        "id": "b6qb9xiyhAsL"
      }
    },
    {
      "cell_type": "code",
      "source": [
        "import pandas as pd\n",
        "import matplotlib.pyplot as plt"
      ],
      "metadata": {
        "id": "bJGPFBgbdeh1"
      },
      "execution_count": null,
      "outputs": []
    },
    {
      "cell_type": "code",
      "source": [
        "pathIndividualFeature = config['individual_feature_file'] ; print(pathIndividualFeature)\n",
        "pathMacroFeature = pathMacroFeature=config['macro_feature_file'] ; print(pathMacroFeature)\n",
        "macroIdx = config['macro_idx'] ; print(macroIdx)"
      ],
      "metadata": {
        "colab": {
          "base_uri": "https://localhost:8080/"
        },
        "id": "acECqGc8a1Hi",
        "outputId": "fcf38e17-e519-448a-d821-13787ab4d886"
      },
      "execution_count": null,
      "outputs": [
        {
          "output_type": "stream",
          "name": "stdout",
          "text": [
            "datasets/char/Char_train.npz\n",
            "datasets/macro/macro_train.npz\n",
            "None\n"
          ]
        }
      ]
    },
    {
      "cell_type": "code",
      "source": [
        "dl = data_layer.DataInRamInputLayer(\n",
        "\t\tconfig['individual_feature_file'],\n",
        "\t\tpathMacroFeature=config['macro_feature_file'],\n",
        "\t\tmacroIdx=config['macro_idx'],\n",
        "\t\tnormalizeMacroFeature=False) # 0 ~ 177\n",
        "\n",
        "for _, (I_macro, I, R, mask) in enumerate(dl.iterateOneEpoch(subEpoch=False)):\n",
        "\t# print(R[mask])\n",
        "\tprint(R.shape)\n",
        "\tprint(I_macro.shape)"
      ],
      "metadata": {
        "colab": {
          "base_uri": "https://localhost:8080/"
        },
        "id": "HLd5O65bUfjs",
        "outputId": "daaeeb26-2d7d-4967-eec0-b22399125b42"
      },
      "execution_count": null,
      "outputs": [
        {
          "output_type": "stream",
          "name": "stdout",
          "text": [
            "(240, 3686)\n",
            "(240, 178)\n"
          ]
        }
      ]
    },
    {
      "cell_type": "code",
      "source": [
        "I[:,0].shape"
      ],
      "metadata": {
        "colab": {
          "base_uri": "https://localhost:8080/"
        },
        "id": "xyfEGkHuQt4Z",
        "outputId": "6bc667da-df29-4185-98ef-a2be7716ce46"
      },
      "execution_count": null,
      "outputs": [
        {
          "output_type": "execute_result",
          "data": {
            "text/plain": [
              "(240, 46)"
            ]
          },
          "metadata": {},
          "execution_count": 63
        }
      ]
    },
    {
      "cell_type": "code",
      "source": [
        "plt.plot(I[:,0,0])"
      ],
      "metadata": {
        "colab": {
          "base_uri": "https://localhost:8080/"
        },
        "id": "6zA7lpaSgA4X",
        "outputId": "06a15e81-dfcc-4fd9-a792-ba9b895b6496"
      },
      "execution_count": null,
      "outputs": [
        {
          "output_type": "execute_result",
          "data": {
            "text/plain": [
              "[<matplotlib.lines.Line2D at 0x7f8e6817ac50>]"
            ]
          },
          "metadata": {},
          "execution_count": 64
        },
        {
          "output_type": "display_data",
          "data": {
            "text/plain": [
              "<Figure size 432x288 with 1 Axes>"
            ],
            "image/png": "[encoded data removed]"
          },
          "metadata": {}
        }
      ]
    },
    {
      "cell_type": "code",
      "source": [
        "plt.plot(R[mask])"
      ],
      "metadata": {
        "id": "nxjZ03TSf1Qg"
      },
      "execution_count": null,
      "outputs": []
    },
    {
      "cell_type": "markdown",
      "source": [
        "## Load Individual Feature"
      ],
      "metadata": {
        "id": "JHi6vZoAdWRh"
      }
    },
    {
      "cell_type": "code",
      "source": [
        "_UNK = -99.99\n",
        "tmp_ind = np.load(pathIndividualFeature) \n",
        "data = tmp_ind['data']\n",
        "_return = data[:,:,0] # (240, 3686)\n",
        "print(_return.shape)\n",
        "_individualFeature = data[:,:,1:] # (240, 3686, 46)\n",
        "_mask = (_return != _UNK) # shape (240, 3686), boolean(True/False)"
      ],
      "metadata": {
        "id": "SdtRofjpbuUo"
      },
      "execution_count": null,
      "outputs": []
    },
    {
      "cell_type": "code",
      "source": [
        "_return"
      ],
      "metadata": {
        "id": "dNedCuII6T-i"
      },
      "execution_count": null,
      "outputs": []
    },
    {
      "cell_type": "code",
      "source": [
        "_return[:,0].shape"
      ],
      "metadata": {
        "id": "zuVIkZp2ILIK"
      },
      "execution_count": null,
      "outputs": []
    },
    {
      "cell_type": "code",
      "source": [
        "_return[:,0]"
      ],
      "metadata": {
        "id": "9CAaaeI5ImGc"
      },
      "execution_count": null,
      "outputs": []
    },
    {
      "cell_type": "code",
      "source": [
        "plt.plot(pd.DataFrame(_return[:,0]))"
      ],
      "metadata": {
        "id": "68H9CN6Is6Vj"
      },
      "execution_count": null,
      "outputs": []
    },
    {
      "cell_type": "code",
      "source": [
        "print(_individualFeature[:,0,:].shape)\n",
        "_individualFeature[:,0,:]"
      ],
      "metadata": {
        "id": "_-LNNKZj3Cxk"
      },
      "execution_count": null,
      "outputs": []
    },
    {
      "cell_type": "code",
      "source": [
        "pd.DataFrame(_return.reshape(-1))"
      ],
      "metadata": {
        "id": "EXILtHl1by4k"
      },
      "execution_count": null,
      "outputs": []
    },
    {
      "cell_type": "code",
      "source": [
        "pd.DataFrame(_individualFeature.reshape(240*3686, 46))"
      ],
      "metadata": {
        "id": "jmk71oZaccmj"
      },
      "execution_count": null,
      "outputs": []
    },
    {
      "cell_type": "code",
      "source": [
        "def _create_var_idx_associations(varList):\n",
        "\t\tidx2var = {idx:var for idx, var in enumerate(varList)}\n",
        "\t\tvar2idx = {var:idx for idx, var in enumerate(varList)}\n",
        "\t\treturn idx2var, var2idx\n",
        "\n",
        "def _load_individual_feature(pathIndividualFeature):\n",
        "    _UNK = -99.99\n",
        "    tmp = np.load(pathIndividualFeature) # 'datasets/char/Char_train.npz'\n",
        "    data = tmp['data']\n",
        "    \n",
        "    ### Data Stored Here\t\t\n",
        "    _return = data[:,:,0] # shape (240, 3686)\n",
        "    _individualFeature = data[:,:,1:]\n",
        "    _mask = (_return != _UNK) # shape (240, 3686), boolean(True/False)\n",
        "\n",
        "    ### Dictionary\n",
        "    _idx2date, _date2idx = _create_var_idx_associations(tmp['date'])\n",
        "    _idx2var, _var2idx = _create_var_idx_associations(tmp['variable'][1:])\n",
        "    _dateCount, _permnoCount, _varCount = data.shape\n",
        "    _varCount -= 1"
      ],
      "metadata": {
        "id": "Z-yHp-tsa1Di"
      },
      "execution_count": null,
      "outputs": []
    },
    {
      "cell_type": "code",
      "source": [
        ""
      ],
      "metadata": {
        "id": "UR6B-2lvdg5Y"
      },
      "execution_count": null,
      "outputs": []
    },
    {
      "cell_type": "code",
      "source": [
        ""
      ],
      "metadata": {
        "id": "2WW-QgF_dg37"
      },
      "execution_count": null,
      "outputs": []
    },
    {
      "cell_type": "code",
      "source": [
        ""
      ],
      "metadata": {
        "id": "od4BameMdg0q"
      },
      "execution_count": null,
      "outputs": []
    },
    {
      "cell_type": "markdown",
      "source": [
        "## Load Macro feature"
      ],
      "metadata": {
        "id": "qVQdznS1dkb2"
      }
    },
    {
      "cell_type": "code",
      "source": [
        "tmp_mac = np.load(pathMacroFeature)\n",
        "macro_idx = np.arange(len(tmp_mac['variable']))"
      ],
      "metadata": {
        "id": "Z2A9Ay1AdoJM"
      },
      "execution_count": null,
      "outputs": []
    },
    {
      "cell_type": "code",
      "source": [
        "for i in tmp_mac.items():\n",
        "    print(i)"
      ],
      "metadata": {
        "id": "mSCvl6YwdoHS"
      },
      "execution_count": null,
      "outputs": []
    },
    {
      "cell_type": "code",
      "source": [
        "_macroFeature = tmp_mac['data'][:,macro_idx] # (240, 178)\n",
        "_macroFeature.shape "
      ],
      "metadata": {
        "colab": {
          "base_uri": "https://localhost:8080/"
        },
        "id": "Z-Nr_N-OdoE6",
        "outputId": "24158809-e4e4-4c67-8cfb-17175c586efe"
      },
      "execution_count": null,
      "outputs": [
        {
          "output_type": "execute_result",
          "data": {
            "text/plain": [
              "(240, 178)"
            ]
          },
          "metadata": {},
          "execution_count": 37
        }
      ]
    },
    {
      "cell_type": "code",
      "source": [
        "_macroFeature.max()"
      ],
      "metadata": {
        "colab": {
          "base_uri": "https://localhost:8080/"
        },
        "id": "sui0mU1xO6b3",
        "outputId": "e1eb86cb-5e61-46a2-9356-17467b42a0c9"
      },
      "execution_count": null,
      "outputs": [
        {
          "output_type": "execute_result",
          "data": {
            "text/plain": [
              "302.0"
            ]
          },
          "metadata": {},
          "execution_count": 47
        }
      ]
    },
    {
      "cell_type": "code",
      "source": [
        "plt.plot(pd.DataFrame(_macroFeature[:,50]))"
      ],
      "metadata": {
        "id": "LpzzT7SRd4U7",
        "colab": {
          "base_uri": "https://localhost:8080/"
        },
        "outputId": "bfd82f44-eb15-460e-a230-3c8093d14765"
      },
      "execution_count": null,
      "outputs": [
        {
          "output_type": "execute_result",
          "data": {
            "text/plain": [
              "[<matplotlib.lines.Line2D at 0x7f8e68455490>]"
            ]
          },
          "metadata": {},
          "execution_count": 56
        },
        {
          "output_type": "display_data",
          "data": {
            "text/plain": [
              "<Figure size 432x288 with 1 Axes>"
            ],
            "image/png": "[encoded data removed]"
          },
          "metadata": {}
        }
      ]
    },
    {
      "cell_type": "code",
      "source": [
        ""
      ],
      "metadata": {
        "id": "Y25NeKoBOSvL"
      },
      "execution_count": null,
      "outputs": []
    },
    {
      "cell_type": "code",
      "source": [
        "_macroFeature[:,0].shape"
      ],
      "metadata": {
        "colab": {
          "base_uri": "https://localhost:8080/"
        },
        "id": "AUaNw87wOFdL",
        "outputId": "cd3359d9-3226-4b4a-f863-ee0958d89d19"
      },
      "execution_count": null,
      "outputs": [
        {
          "output_type": "execute_result",
          "data": {
            "text/plain": [
              "(240,)"
            ]
          },
          "metadata": {},
          "execution_count": 40
        }
      ]
    },
    {
      "cell_type": "code",
      "source": [
        "k = 10\n",
        "plt.figure(figsize=(10,5*k))\n",
        "for i, col in enumerate(df_mac.columns[:k]):\n",
        "    plt.subplot(k, 1, i+1) \n",
        "    plt.plot(df_mac[col])\n",
        "    plt.title('%s' %col)\n",
        "    "
      ],
      "metadata": {
        "id": "S7ao4xdOd4S1"
      },
      "execution_count": null,
      "outputs": []
    },
    {
      "cell_type": "code",
      "source": [
        "\n",
        "\n"
      ],
      "metadata": {
        "id": "i6fP5r_8d4Q9"
      },
      "execution_count": null,
      "outputs": []
    },
    {
      "cell_type": "markdown",
      "source": [
        "# LoadData"
      ],
      "metadata": {
        "id": "6ZqZZSZudhem"
      }
    },
    {
      "cell_type": "code",
      "source": [
        "class LoadData:\n",
        "    def __init__(self, pathIndividualFeature, pathMacroFeature):\n",
        "        self._UNK = -99.99\n",
        "        self._load_individual_feature(pathIndividualFeature)\n",
        "        self._load_macro_feature(pathMacroFeature)\t\t\n",
        "\n",
        "    def _load_individual_feature(self, pathIndividualFeature):\n",
        "        tmp = np.load(pathIndividualFeature, allow_pickle=True) # 'datasets/char/Char_train.npz'\n",
        "        data = tmp['data']\n",
        "\n",
        "        ### Data Stored Here\t\t\n",
        "        self._return = data[:,:,0].astype('float32') \n",
        "        self._individualFeature = data[:,:,1:].astype('float32')\n",
        "        self._mask = (self._return != self._UNK)\n",
        "\n",
        "    def _load_macro_feature(self, pathMacroFeature):\n",
        "        tmp = np.load(pathMacroFeature, allow_pickle=True)\n",
        "        macro_idx = np.arange(len(tmp['variable']))\n",
        "        self._macroFeature = tmp['data'][:,macro_idx].astype('float32')\n",
        "\n",
        "\n",
        "    def iterateOneEpoch(self, subEpoch=False):\n",
        "        if subEpoch:\n",
        "            for _ in range(subEpoch):\n",
        "                yield self._macroFeature, self._individualFeature, self._return, self._mask\n",
        "        else:\n",
        "            yield self._macroFeature, self._individualFeature, self._return, self._mask"
      ],
      "metadata": {
        "id": "hVW82wzLM01A"
      },
      "execution_count": null,
      "outputs": []
    },
    {
      "cell_type": "code",
      "source": [
        "dl = LoadData(\n",
        "\t\tpathIndividualFeature='my_char_train.npz',\n",
        "        pathMacroFeature='my_macro_train.npz')\n",
        "\n",
        "dl_valid = LoadData(\n",
        "\t\tpathIndividualFeature='my_char_valid.npz',\n",
        "        pathMacroFeature='my_macro_valid.npz')\n",
        "\n",
        "dl_test = LoadData(\n",
        "\t\tpathIndividualFeature='my_char_test.npz',\n",
        "        pathMacroFeature='my_macro_test.npz')"
      ],
      "metadata": {
        "id": "VTHh0MbOOHrE"
      },
      "execution_count": null,
      "outputs": []
    },
    {
      "cell_type": "code",
      "source": [
        "for _, (I_macro, I, R, mask) in enumerate(dl.iterateOneEpoch(subEpoch=False)):\n",
        "    print('dl')\n",
        "    print(I_macro.shape)\n",
        "    print(I.shape)\n",
        "\n",
        "for _, (I_macro, I, R, mask) in enumerate(dl_valid.iterateOneEpoch(subEpoch=False)):\n",
        "    print('dl_valid')\n",
        "    print(I_macro.shape)\n",
        "    print(I.shape)\n",
        "\n",
        "for _, (I_macro, I, R, mask) in enumerate(dl_test.iterateOneEpoch(subEpoch=False)):\n",
        "    print('dl_test')\n",
        "    print(I_macro.shape)\n",
        "    print(I.shape)"
      ],
      "metadata": {
        "colab": {
          "base_uri": "https://localhost:8080/"
        },
        "id": "4OpLlaQVz__d",
        "outputId": "0e422162-cd82-4d24-c25e-b3f971c48dba"
      },
      "execution_count": null,
      "outputs": [
        {
          "output_type": "stream",
          "name": "stdout",
          "text": [
            "dl\n",
            "(192, 127)\n",
            "(192, 3194, 48)\n",
            "dl_valid\n",
            "(60, 127)\n",
            "(60, 1313, 48)\n",
            "dl_test\n",
            "(60, 127)\n",
            "(60, 1386, 48)\n"
          ]
        }
      ]
    },
    {
      "cell_type": "code",
      "source": [
        "# dl = LoadData(\n",
        "# \t\tpathIndividualFeature='datasets/char/Char_train.npz',\n",
        "#         pathMacroFeature='datasets/macro/macro_train.npz')\n",
        "\n",
        "# for _, (I_macro, I, R, mask) in enumerate(dl.iterateOneEpoch(subEpoch=False)):\n",
        "#     print(I_macro.shape)\n",
        "#     print(I_macro)"
      ],
      "metadata": {
        "id": "78gHfrXaGjWa"
      },
      "execution_count": null,
      "outputs": []
    },
    {
      "cell_type": "code",
      "source": [
        "# print((float(\"inf\") in I_macro)|(float(\"-inf\") in I_macro))\n",
        "# print((float(\"inf\") in I)|(float(\"-inf\") in I))\n",
        "# print((float(\"inf\") in R)|(float(\"-inf\") in R))"
      ],
      "metadata": {
        "id": "CdMC6rctgGNj"
      },
      "execution_count": null,
      "outputs": []
    },
    {
      "cell_type": "code",
      "source": [
        ""
      ],
      "metadata": {
        "id": "PKNKsh30iG3P"
      },
      "execution_count": null,
      "outputs": []
    },
    {
      "cell_type": "markdown",
      "source": [
        "# Model\n",
        "---\n",
        "- https://wdprogrammer.tistory.com/34"
      ],
      "metadata": {
        "id": "R_w7_TVcoakc"
      }
    },
    {
      "cell_type": "code",
      "source": [
        "from tensorflow.python.ops.rnn_cell import BasicRNNCell\n",
        "from tensorflow.python.ops.rnn_cell import GRUCell\n",
        "from tensorflow.python.ops.rnn_cell import LSTMCell\n",
        "from tensorflow.python.ops.rnn_cell import DropoutWrapper\n",
        "from tensorflow.python.ops.rnn_cell import MultiRNNCell\n",
        "\n",
        "def create_rnn_cell(cell_type, num_units, num_layers=1, dp_input_keep_prob=1.0, dp_output_keep_prob=1.0):\n",
        "\tdef single_cell(num_units):\n",
        "\t\tif cell_type == 'rnn':\n",
        "\t\t\tcell_class = BasicRNNCell\n",
        "\t\telif cell_type == 'gru':\n",
        "\t\t\tcell_class = GRUCell\n",
        "\t\telif cell_type == 'lstm':\n",
        "\t\t\tcell_class = LSTMCell\n",
        "\t\telse:\n",
        "\t\t\traise ValueError('Cell Type Not Supported! ')\n",
        "\n",
        "\t\tif dp_input_keep_prob != 1.0 or dp_output_keep_prob != 1.0:\n",
        "\t\t\treturn DropoutWrapper(cell_class(num_units=num_units),\n",
        "\t\t\t\tinput_keep_prob=dp_input_keep_prob,\n",
        "\t\t\t\toutput_keep_prob=dp_output_keep_prob)\n",
        "\t\telse:\n",
        "\t\t\treturn cell_class(num_units=num_units)\n",
        "\n",
        "\tassert(len(num_units) == num_layers)\n",
        "\tif num_layers > 1:\n",
        "\t\treturn MultiRNNCell([single_cell(num_units[i]) for i in range(num_layers)])\n",
        "\telse:\n",
        "\t\treturn single_cell(num_units[0])"
      ],
      "metadata": {
        "id": "DxvNXLWNjt_8"
      },
      "execution_count": null,
      "outputs": []
    },
    {
      "cell_type": "code",
      "source": [
        "def initial_state_size(cell_type, num_units):\n",
        "\tstate_size = sum(num_units)\n",
        "\treturn state_size * 2\n",
        "\t"
      ],
      "metadata": {
        "id": "4h4olN3SCmag"
      },
      "execution_count": null,
      "outputs": []
    },
    {
      "cell_type": "code",
      "source": [
        "from tensorflow.python.layers.core import Dense\n",
        "from tensorflow.python.ops.rnn_cell_impl import LSTMStateTuple\n",
        "\n",
        "class Model():\n",
        "    def __init__(self, model_params, tSize, force_var_reuse=False, global_step=None):\n",
        "        # super(Model, self).__init__(model_params, global_step)\n",
        "        self._force_var_reuse = force_var_reuse\n",
        "        self.model_params = model_params\n",
        "        self._global_step = global_step\n",
        "\n",
        "        # ---- placeholders ---- #\n",
        "        self._tSize = tSize\n",
        "        self._macro_feature_dim = self.model_params['macro_feature_dim']\n",
        "        self._individual_feature_dim = self.model_params['individual_feature_dim']\n",
        "        self._I_macro_placeholder = tf.placeholder(dtype=tf.float32, shape=[self._tSize, self._macro_feature_dim], name='macroFeaturePlaceholder')\n",
        "        self._I_placeholder = tf.placeholder(dtype=tf.float32, shape=[None, None, self._individual_feature_dim], name='individualFeaturePlaceholder')\n",
        "        self._R_placeholder = tf.placeholder(dtype=tf.float32, shape=[None, None], name='returnPlaceholder')\n",
        "        self._mask_placeholder = tf.placeholder(dtype=tf.bool, shape=[None, None], name='maskPlaceholder')\n",
        "        self._dropout_placeholder = tf.placeholder_with_default(1.0, shape=[], name='Dropout')\n",
        "        self._nSize = tf.shape(self._R_placeholder)[1]\n",
        "        \n",
        "        \n",
        "        # self._state_size = initial_state_size(self.model_params['cell_type_rnn'], self.model_params['num_units_rnn'])\n",
        "        # self._initial_state_placeholder = tf.placeholder(dtype=tf.float32, shape=[1, self._state_size])\n",
        "        # splits = [2*unit for unit in self.model_params['num_units_rnn']]\n",
        "        # self._initial_state = tuple([LSTMStateTuple(*tf.split(value=layer_state, num_or_size_splits=2, axis=1))\n",
        "        #         for layer_state in tf.split(value=self._initial_state_placeholder, num_or_size_splits=splits, axis=1)])\n",
        "        # self._initial_state = self._initial_state[0]\n",
        "\n",
        "        \n",
        "        ### rnn input ###\n",
        "        _I_macro_placeholder = self._I_macro_placeholder ; print('_I_macro_placeholder', _I_macro_placeholder.shape) # (240, 178)\n",
        "        self._rnn_input = tf.expand_dims(self._I_macro_placeholder, axis=0) \n",
        "        rnn_input = self._rnn_input ; print('rnn_input: ', rnn_input.shape) # (1, 240, 178)\n",
        "\n",
        "        with tf.variable_scope(name_or_scope='Model_Layer', reuse=self._force_var_reuse):\n",
        "            self.build()\n",
        "        \n",
        "\n",
        "\n",
        "    def build(self):\n",
        "\n",
        "        with tf.variable_scope('RNN_Layer'):\n",
        "            rnn_cell = create_rnn_cell(\n",
        "                        cell_type=self.model_params['cell_type_rnn'], # lstm\n",
        "                        num_units=self.model_params['num_units_rnn'], # 4\n",
        "                        num_layers=self.model_params['num_layers_rnn'], # 1\n",
        "                        dp_input_keep_prob=self._dropout_placeholder,\n",
        "                        dp_output_keep_prob=1.0\n",
        "                        )\n",
        "\n",
        "            rnn_outputs, rnn_state = tf.nn.dynamic_rnn(\n",
        "                        cell=rnn_cell,\n",
        "                        inputs=self._rnn_input,\n",
        "                        # initial_state=self._initial_state,\n",
        "                        dtype=tf.float32)\n",
        "            self._rnn_state = rnn_state\n",
        "            print('rnn_outputs: ', rnn_outputs.shape) # (1, 240, 4)\n",
        "            \n",
        "            self._macro_nn_input = tf.squeeze(rnn_outputs, axis=0) # RNN 통과해서 나온 macro 변수들의 hidden state?\n",
        "            _macro_nn_input = self._macro_nn_input ; print('_macro_nn_input', _macro_nn_input.shape) # (240, 4)\n",
        "\n",
        "        with tf.variable_scope('NN_Layer'):\n",
        "            I_macro_tile = tf.tile(tf.expand_dims(self._macro_nn_input, axis=1), [1,self._nSize,1]) # T * N * macro_feature_dim (240, ?, 4)\n",
        "            print('I_macro_tile', I_macro_tile.shape)\n",
        "            I_macro_masked = tf.boolean_mask(I_macro_tile, mask=self._mask_placeholder) # (?, 4)\n",
        "            print('I_macro_masked', I_macro_masked.shape)\n",
        "            I_masked = tf.boolean_mask(self._I_placeholder, mask=self._mask_placeholder) # (?, 46)\n",
        "            print('I_masked', I_masked.shape)\n",
        "            I_concat = tf.concat([I_masked, I_macro_masked], axis=1) # None * (macro_feature_dim + individual_feature_dim)\n",
        "            print('I_concat', I_concat.shape) # (?, 50)\n",
        "            R_masked = tf.boolean_mask(self._R_placeholder, mask=self._mask_placeholder)\n",
        "            print('R_masked', R_masked.shape) # (?,)\n",
        "\n",
        "            h_l = I_concat # 이게 macro와 firm-spec.이 합쳐진 것\n",
        "\n",
        "            for l in range(self.model_params['num_layers']):\n",
        "                with tf.variable_scope('dense_layer_%d' %l):\n",
        "                    layer_l = Dense(units=self.model_params['hidden_dim'][l], activation=tf.nn.relu)\n",
        "                    h_l = layer_l(h_l) # macro와 firm-spec.이 합쳐진 것이 Dense layer를 통과함 \n",
        "                    h_l = tf.nn.dropout(h_l, self._dropout_placeholder)\n",
        "\n",
        "            with tf.variable_scope('last_dense_layer'):\n",
        "                layer = Dense(units=1) # 마지막 dense layer이므로 output unit 개수가 1\n",
        "                R_pred = layer(h_l)\n",
        "                self._R_pred = tf.reshape(R_pred, shape=[-1])\n",
        "\n",
        "        self._loss = tf.reduce_mean(tf.square(R_masked - self._R_pred))\n",
        "        self._train_model_op = tf.contrib.layers.optimize_loss(\n",
        "                                                                loss=self._loss,\n",
        "                                                                global_step=self._global_step,\n",
        "                                                                learning_rate=0.001,\n",
        "                                                                optimizer=\"Adam\")\n",
        "\n",
        "\n",
        "    def train(self, sess, dl, dl_valid, model_valid, dl_test=None, model_test=None,\n",
        "              printOnConsole=True, printFreq=10):\n",
        "        \n",
        "        best_valid_loss = float('inf')\n",
        "        sharpe_train = [] ; r2_train = []\n",
        "        sharpe_valid = [] ; r2_valid = []\n",
        "\n",
        "        ### evaluate test data\n",
        "        evaluate_test_data = False\n",
        "        if dl_test is not None:\n",
        "            evaluate_test_data = True\n",
        "            sharpe_test = [] ; r2_test = []\n",
        "\n",
        "\n",
        "        ###### initialize variables ######\n",
        "        init_g = tf.global_variables_initializer()\n",
        "        init_l = tf.local_variables_initializer()\n",
        "        sess.run(init_g)\n",
        "        sess.run(init_l)\n",
        "\n",
        "        for epoch in range(100):\n",
        "            for _, (I_macro, I, R, mask) in enumerate(dl.iterateOneEpoch(subEpoch=False)):\n",
        "\n",
        "                fetches = [self._train_model_op]\n",
        "                feed_dict = {self._I_macro_placeholder:I_macro,\n",
        "                            self._I_placeholder:I,\n",
        "                            self._R_placeholder:R,\n",
        "                            self._mask_placeholder:mask,\n",
        "                            self._dropout_placeholder:self.model_params['dropout']\n",
        "                            }\n",
        "                \n",
        "                sess.run(fetches=fetches, feed_dict=feed_dict)\n",
        "            \n",
        "            ### evaluate train loss / R2\n",
        "            train_epoch_loss = self.evaluate_loss(sess, dl)\n",
        "            train_epoch_r2 = self.evaluate_r_sq(sess, dl)\n",
        "            r2_train.append(train_epoch_r2)\n",
        "\n",
        "            ### evaluate valid loss / R2\n",
        "            valid_epoch_loss = model_valid.evaluate_loss(sess, dl_valid)\n",
        "            valid_epoch_r2 = model_valid.evaluate_r_sq(sess, dl_valid)\n",
        "            r2_valid.append(valid_epoch_r2)\n",
        "            \n",
        "            ### evaluate test loss / R2\n",
        "            if evaluate_test_data:\n",
        "                test_epoch_loss = model_test.evaluate_loss(sess, dl_test)\n",
        "                test_epoch_r2 = model_test.evaluate_r_sq(sess, dl_test)\n",
        "                r2_test.append(test_epoch_r2)\n",
        "\n",
        "            ### print loss / R2\n",
        "            if printOnConsole and epoch % printFreq == 0:\n",
        "                print('\\n\\n')\n",
        "                deco_print('Doing epoch %d' %epoch)\n",
        "                if evaluate_test_data:\n",
        "                    deco_print('Epoch %d train/valid/test loss: %0.4f/%0.4f/%0.4f' %(epoch, train_epoch_loss, valid_epoch_loss, test_epoch_loss))\n",
        "                    deco_print('Epoch %d train/valid/test R-Squared: %0.4f/%0.4f/%0.4f' %(epoch, train_epoch_r2, valid_epoch_r2, test_epoch_r2))\n",
        "        \n",
        "                else:\n",
        "                    deco_print('Epoch %d train/valid loss: %0.4f/%0.4f' %(epoch, train_epoch_loss, valid_epoch_loss))\n",
        "                    deco_print('Epoch %d train/valid R-Squared: %0.4f/%0.4f' %(epoch, train_epoch_r2, valid_epoch_r2))\n",
        "            \n",
        "            ### save epoch\n",
        "            if valid_epoch_loss < best_valid_loss:\n",
        "                best_valid_loss = valid_epoch_loss\n",
        "                if printOnConsole and epoch % printFreq == 0:\n",
        "                    deco_print('Saving current best checkpoint')\n",
        "                # saver.save(sess, save_path=os.path.join(logdir, 'model-best'))\n",
        "        \n",
        "        if evaluate_test_data:\n",
        "            return r2_train, r2_valid, r2_test\n",
        "        else:\n",
        "            return r2_train, r2_valid\n",
        "\n",
        "\n",
        "    def evaluate_loss(self, sess, dl):\n",
        "        for _, (I_macro, I, R, mask) in enumerate(dl.iterateOneEpoch(subEpoch=False)):\n",
        "            feed_dict = {self._I_macro_placeholder:I_macro,\n",
        "                        self._I_placeholder:I,\n",
        "                        self._R_placeholder:R,\n",
        "                        self._mask_placeholder:mask,\n",
        "                        self._dropout_placeholder:1.0\n",
        "                            }\n",
        "            loss, = sess.run([self._loss], feed_dict=feed_dict)\n",
        "        return loss\n",
        "\n",
        "    def getPrediction(self, sess, dl):\n",
        "        for _, (I_macro, I, R, mask) in enumerate(dl.iterateOneEpoch(subEpoch=False)):\n",
        "            feed_dict = {self._I_macro_placeholder:I_macro,\n",
        "                        self._I_placeholder:I,\n",
        "                        self._R_placeholder:R,\n",
        "                        self._mask_placeholder:mask,\n",
        "                        self._dropout_placeholder:1.0}\n",
        "            R_pred, = sess.run(fetches=[self._R_pred], feed_dict=feed_dict)\n",
        "        return R_pred\n",
        "\n",
        "    def evaluate_r_sq(self, sess, dl):\n",
        "        R_pred = self.getPrediction(sess, dl)\n",
        "        for _, (I_macro, I, R, mask) in enumerate(dl.iterateOneEpoch(subEpoch=False)):\n",
        "            r_sq = 1 - ( sum((R[mask] - R_pred)**2) / sum(R[mask]**2) )\n",
        "        return r_sq\n",
        "\n",
        "    def evaluate_sth(self, sess, dl):\n",
        "        for _, (I_macro, I, R, mask) in enumerate(dl.iterateOneEpoch(subEpoch=False)):\n",
        "            feed_dict = {self._I_macro_placeholder:I_macro,\n",
        "                        self._I_placeholder:I,\n",
        "                        self._R_placeholder:R,\n",
        "                        self._mask_placeholder:mask,\n",
        "                        self._dropout_placeholder:1.0}\n",
        "            sth = sess.run(fetches=[self._rnn_state], feed_dict=feed_dict)\n",
        "        return sth\n"
      ],
      "metadata": {
        "id": "NTNpZClyiEp8"
      },
      "execution_count": null,
      "outputs": []
    },
    {
      "cell_type": "markdown",
      "source": [
        "# Train"
      ],
      "metadata": {
        "id": "0ddayfZJ-NRB"
      }
    },
    {
      "cell_type": "code",
      "source": [
        "config"
      ],
      "metadata": {
        "colab": {
          "base_uri": "https://localhost:8080/"
        },
        "id": "XnFwo3mkCjHb",
        "outputId": "a6f43f70-6128-4993-fca4-8608eac003c9"
      },
      "execution_count": null,
      "outputs": [
        {
          "output_type": "execute_result",
          "data": {
            "text/plain": [
              "{'cell_type_rnn': 'lstm',\n",
              " 'cell_type_rnn_moment': 'lstm',\n",
              " 'dropout': 0.95,\n",
              " 'hidden_dim': [64, 64],\n",
              " 'hidden_dim_moment': [],\n",
              " 'individual_feature_dim': 48,\n",
              " 'individual_feature_file': 'datasets/char/Char_train.npz',\n",
              " 'individual_feature_file_test': 'datasets/char/Char_test.npz',\n",
              " 'individual_feature_file_valid': 'datasets/char/Char_valid.npz',\n",
              " 'learning_rate': 0.001,\n",
              " 'loss_factor': 1.0,\n",
              " 'macro_feature_dim': 127,\n",
              " 'macro_feature_file': 'datasets/macro/macro_train.npz',\n",
              " 'macro_feature_file_test': 'datasets/macro/macro_test.npz',\n",
              " 'macro_feature_file_valid': 'datasets/macro/macro_valid.npz',\n",
              " 'macro_idx': None,\n",
              " 'num_condition_moment': 8,\n",
              " 'num_epochs': 1024,\n",
              " 'num_epochs_moment': 64,\n",
              " 'num_epochs_unc': 256,\n",
              " 'num_layers': 2,\n",
              " 'num_layers_moment': 0,\n",
              " 'num_layers_rnn': 1,\n",
              " 'num_layers_rnn_moment': 1,\n",
              " 'num_units_rnn': [8],\n",
              " 'num_units_rnn_moment': [32],\n",
              " 'optimizer': 'Adam',\n",
              " 'sub_epoch': 4,\n",
              " 'tSize': 192,\n",
              " 'tSize_test': 60,\n",
              " 'tSize_valid': 60,\n",
              " 'use_rnn': True,\n",
              " 'weighted_loss': True}"
            ]
          },
          "metadata": {},
          "execution_count": 51
        }
      ]
    },
    {
      "cell_type": "code",
      "source": [
        "model_params = config\n",
        "tf.reset_default_graph()\n",
        "global_step = tf.train.get_or_create_global_step()\n",
        "model = Model(model_params=config, tSize=config['tSize'], global_step=global_step)\n",
        "model_valid = Model(model_params=config, tSize=config['tSize_valid'], force_var_reuse=True, global_step=global_step)\n",
        "model_test = Model(model_params=config, tSize=config['tSize_test'], force_var_reuse=True, global_step=global_step)"
      ],
      "metadata": {
        "colab": {
          "base_uri": "https://localhost:8080/"
        },
        "id": "DrljwJnSALU0",
        "outputId": "a0991747-6e0e-416d-ec1f-85fe54c9f0ca"
      },
      "execution_count": null,
      "outputs": [
        {
          "output_type": "stream",
          "name": "stdout",
          "text": [
            "_I_macro_placeholder (192, 127)\n",
            "rnn_input:  (1, 192, 127)\n",
            "WARNING:tensorflow:Entity <bound method LSTMCell.call of <tensorflow.python.ops.rnn_cell_impl.LSTMCell object at 0x7f9e23ba0c50>> could not be transformed and will be executed as-is. Please report this to the AutgoGraph team. When filing the bug, set the verbosity to 10 (on Linux, `export AUTOGRAPH_VERBOSITY=10`) and attach the full output. Cause: converting <bound method LSTMCell.call of <tensorflow.python.ops.rnn_cell_impl.LSTMCell object at 0x7f9e23ba0c50>>: AttributeError: module 'gast' has no attribute 'Index'\n",
            "WARNING: Entity <bound method LSTMCell.call of <tensorflow.python.ops.rnn_cell_impl.LSTMCell object at 0x7f9e23ba0c50>> could not be transformed and will be executed as-is. Please report this to the AutgoGraph team. When filing the bug, set the verbosity to 10 (on Linux, `export AUTOGRAPH_VERBOSITY=10`) and attach the full output. Cause: converting <bound method LSTMCell.call of <tensorflow.python.ops.rnn_cell_impl.LSTMCell object at 0x7f9e23ba0c50>>: AttributeError: module 'gast' has no attribute 'Index'\n",
            "rnn_outputs:  (1, 192, 8)\n",
            "_macro_nn_input (192, 8)\n",
            "I_macro_tile (192, ?, 8)\n",
            "I_macro_masked (?, 8)\n",
            "I_masked (?, 48)\n",
            "I_concat (?, 56)\n",
            "R_masked (?,)\n",
            "WARNING:tensorflow:Entity <bound method Dense.call of <tensorflow.python.layers.core.Dense object at 0x7f9e23e6b790>> could not be transformed and will be executed as-is. Please report this to the AutgoGraph team. When filing the bug, set the verbosity to 10 (on Linux, `export AUTOGRAPH_VERBOSITY=10`) and attach the full output. Cause: converting <bound method Dense.call of <tensorflow.python.layers.core.Dense object at 0x7f9e23e6b790>>: AttributeError: module 'gast' has no attribute 'Index'\n",
            "WARNING: Entity <bound method Dense.call of <tensorflow.python.layers.core.Dense object at 0x7f9e23e6b790>> could not be transformed and will be executed as-is. Please report this to the AutgoGraph team. When filing the bug, set the verbosity to 10 (on Linux, `export AUTOGRAPH_VERBOSITY=10`) and attach the full output. Cause: converting <bound method Dense.call of <tensorflow.python.layers.core.Dense object at 0x7f9e23e6b790>>: AttributeError: module 'gast' has no attribute 'Index'\n",
            "WARNING:tensorflow:Entity <bound method Dense.call of <tensorflow.python.layers.core.Dense object at 0x7f9e23e82a10>> could not be transformed and will be executed as-is. Please report this to the AutgoGraph team. When filing the bug, set the verbosity to 10 (on Linux, `export AUTOGRAPH_VERBOSITY=10`) and attach the full output. Cause: converting <bound method Dense.call of <tensorflow.python.layers.core.Dense object at 0x7f9e23e82a10>>: AttributeError: module 'gast' has no attribute 'Index'\n",
            "WARNING: Entity <bound method Dense.call of <tensorflow.python.layers.core.Dense object at 0x7f9e23e82a10>> could not be transformed and will be executed as-is. Please report this to the AutgoGraph team. When filing the bug, set the verbosity to 10 (on Linux, `export AUTOGRAPH_VERBOSITY=10`) and attach the full output. Cause: converting <bound method Dense.call of <tensorflow.python.layers.core.Dense object at 0x7f9e23e82a10>>: AttributeError: module 'gast' has no attribute 'Index'\n",
            "WARNING:tensorflow:Entity <bound method Dense.call of <tensorflow.python.layers.core.Dense object at 0x7f9e23e82ad0>> could not be transformed and will be executed as-is. Please report this to the AutgoGraph team. When filing the bug, set the verbosity to 10 (on Linux, `export AUTOGRAPH_VERBOSITY=10`) and attach the full output. Cause: converting <bound method Dense.call of <tensorflow.python.layers.core.Dense object at 0x7f9e23e82ad0>>: AttributeError: module 'gast' has no attribute 'Index'\n",
            "WARNING: Entity <bound method Dense.call of <tensorflow.python.layers.core.Dense object at 0x7f9e23e82ad0>> could not be transformed and will be executed as-is. Please report this to the AutgoGraph team. When filing the bug, set the verbosity to 10 (on Linux, `export AUTOGRAPH_VERBOSITY=10`) and attach the full output. Cause: converting <bound method Dense.call of <tensorflow.python.layers.core.Dense object at 0x7f9e23e82ad0>>: AttributeError: module 'gast' has no attribute 'Index'\n",
            "_I_macro_placeholder (60, 127)\n",
            "rnn_input:  (1, 60, 127)\n",
            "WARNING:tensorflow:Entity <bound method LSTMCell.call of <tensorflow.python.ops.rnn_cell_impl.LSTMCell object at 0x7f9e20f055d0>> could not be transformed and will be executed as-is. Please report this to the AutgoGraph team. When filing the bug, set the verbosity to 10 (on Linux, `export AUTOGRAPH_VERBOSITY=10`) and attach the full output. Cause: converting <bound method LSTMCell.call of <tensorflow.python.ops.rnn_cell_impl.LSTMCell object at 0x7f9e20f055d0>>: AttributeError: module 'gast' has no attribute 'Index'\n",
            "WARNING: Entity <bound method LSTMCell.call of <tensorflow.python.ops.rnn_cell_impl.LSTMCell object at 0x7f9e20f055d0>> could not be transformed and will be executed as-is. Please report this to the AutgoGraph team. When filing the bug, set the verbosity to 10 (on Linux, `export AUTOGRAPH_VERBOSITY=10`) and attach the full output. Cause: converting <bound method LSTMCell.call of <tensorflow.python.ops.rnn_cell_impl.LSTMCell object at 0x7f9e20f055d0>>: AttributeError: module 'gast' has no attribute 'Index'\n",
            "rnn_outputs:  (1, 60, 8)\n",
            "_macro_nn_input (60, 8)\n",
            "I_macro_tile (60, ?, 8)\n",
            "I_macro_masked (?, 8)\n",
            "I_masked (?, 48)\n",
            "I_concat (?, 56)\n",
            "R_masked (?,)\n",
            "WARNING:tensorflow:Entity <bound method Dense.call of <tensorflow.python.layers.core.Dense object at 0x7f9e20d77e10>> could not be transformed and will be executed as-is. Please report this to the AutgoGraph team. When filing the bug, set the verbosity to 10 (on Linux, `export AUTOGRAPH_VERBOSITY=10`) and attach the full output. Cause: converting <bound method Dense.call of <tensorflow.python.layers.core.Dense object at 0x7f9e20d77e10>>: AttributeError: module 'gast' has no attribute 'Index'\n",
            "WARNING: Entity <bound method Dense.call of <tensorflow.python.layers.core.Dense object at 0x7f9e20d77e10>> could not be transformed and will be executed as-is. Please report this to the AutgoGraph team. When filing the bug, set the verbosity to 10 (on Linux, `export AUTOGRAPH_VERBOSITY=10`) and attach the full output. Cause: converting <bound method Dense.call of <tensorflow.python.layers.core.Dense object at 0x7f9e20d77e10>>: AttributeError: module 'gast' has no attribute 'Index'\n",
            "WARNING:tensorflow:Entity <bound method Dense.call of <tensorflow.python.layers.core.Dense object at 0x7f9e20ec7990>> could not be transformed and will be executed as-is. Please report this to the AutgoGraph team. When filing the bug, set the verbosity to 10 (on Linux, `export AUTOGRAPH_VERBOSITY=10`) and attach the full output. Cause: converting <bound method Dense.call of <tensorflow.python.layers.core.Dense object at 0x7f9e20ec7990>>: AttributeError: module 'gast' has no attribute 'Index'\n",
            "WARNING: Entity <bound method Dense.call of <tensorflow.python.layers.core.Dense object at 0x7f9e20ec7990>> could not be transformed and will be executed as-is. Please report this to the AutgoGraph team. When filing the bug, set the verbosity to 10 (on Linux, `export AUTOGRAPH_VERBOSITY=10`) and attach the full output. Cause: converting <bound method Dense.call of <tensorflow.python.layers.core.Dense object at 0x7f9e20ec7990>>: AttributeError: module 'gast' has no attribute 'Index'\n",
            "WARNING:tensorflow:Entity <bound method Dense.call of <tensorflow.python.layers.core.Dense object at 0x7f9e20dc9f10>> could not be transformed and will be executed as-is. Please report this to the AutgoGraph team. When filing the bug, set the verbosity to 10 (on Linux, `export AUTOGRAPH_VERBOSITY=10`) and attach the full output. Cause: converting <bound method Dense.call of <tensorflow.python.layers.core.Dense object at 0x7f9e20dc9f10>>: AttributeError: module 'gast' has no attribute 'Index'\n",
            "WARNING: Entity <bound method Dense.call of <tensorflow.python.layers.core.Dense object at 0x7f9e20dc9f10>> could not be transformed and will be executed as-is. Please report this to the AutgoGraph team. When filing the bug, set the verbosity to 10 (on Linux, `export AUTOGRAPH_VERBOSITY=10`) and attach the full output. Cause: converting <bound method Dense.call of <tensorflow.python.layers.core.Dense object at 0x7f9e20dc9f10>>: AttributeError: module 'gast' has no attribute 'Index'\n",
            "_I_macro_placeholder (60, 127)\n",
            "rnn_input:  (1, 60, 127)\n",
            "WARNING:tensorflow:Entity <bound method LSTMCell.call of <tensorflow.python.ops.rnn_cell_impl.LSTMCell object at 0x7f9e209340d0>> could not be transformed and will be executed as-is. Please report this to the AutgoGraph team. When filing the bug, set the verbosity to 10 (on Linux, `export AUTOGRAPH_VERBOSITY=10`) and attach the full output. Cause: converting <bound method LSTMCell.call of <tensorflow.python.ops.rnn_cell_impl.LSTMCell object at 0x7f9e209340d0>>: AttributeError: module 'gast' has no attribute 'Index'\n",
            "WARNING: Entity <bound method LSTMCell.call of <tensorflow.python.ops.rnn_cell_impl.LSTMCell object at 0x7f9e209340d0>> could not be transformed and will be executed as-is. Please report this to the AutgoGraph team. When filing the bug, set the verbosity to 10 (on Linux, `export AUTOGRAPH_VERBOSITY=10`) and attach the full output. Cause: converting <bound method LSTMCell.call of <tensorflow.python.ops.rnn_cell_impl.LSTMCell object at 0x7f9e209340d0>>: AttributeError: module 'gast' has no attribute 'Index'\n",
            "rnn_outputs:  (1, 60, 8)\n",
            "_macro_nn_input (60, 8)\n",
            "I_macro_tile (60, ?, 8)\n",
            "I_macro_masked (?, 8)\n",
            "I_masked (?, 48)\n",
            "I_concat (?, 56)\n",
            "R_masked (?,)\n",
            "WARNING:tensorflow:Entity <bound method Dense.call of <tensorflow.python.layers.core.Dense object at 0x7f9e208694d0>> could not be transformed and will be executed as-is. Please report this to the AutgoGraph team. When filing the bug, set the verbosity to 10 (on Linux, `export AUTOGRAPH_VERBOSITY=10`) and attach the full output. Cause: converting <bound method Dense.call of <tensorflow.python.layers.core.Dense object at 0x7f9e208694d0>>: AttributeError: module 'gast' has no attribute 'Index'\n",
            "WARNING: Entity <bound method Dense.call of <tensorflow.python.layers.core.Dense object at 0x7f9e208694d0>> could not be transformed and will be executed as-is. Please report this to the AutgoGraph team. When filing the bug, set the verbosity to 10 (on Linux, `export AUTOGRAPH_VERBOSITY=10`) and attach the full output. Cause: converting <bound method Dense.call of <tensorflow.python.layers.core.Dense object at 0x7f9e208694d0>>: AttributeError: module 'gast' has no attribute 'Index'\n",
            "WARNING:tensorflow:Entity <bound method Dense.call of <tensorflow.python.layers.core.Dense object at 0x7f9e208695d0>> could not be transformed and will be executed as-is. Please report this to the AutgoGraph team. When filing the bug, set the verbosity to 10 (on Linux, `export AUTOGRAPH_VERBOSITY=10`) and attach the full output. Cause: converting <bound method Dense.call of <tensorflow.python.layers.core.Dense object at 0x7f9e208695d0>>: AttributeError: module 'gast' has no attribute 'Index'\n",
            "WARNING: Entity <bound method Dense.call of <tensorflow.python.layers.core.Dense object at 0x7f9e208695d0>> could not be transformed and will be executed as-is. Please report this to the AutgoGraph team. When filing the bug, set the verbosity to 10 (on Linux, `export AUTOGRAPH_VERBOSITY=10`) and attach the full output. Cause: converting <bound method Dense.call of <tensorflow.python.layers.core.Dense object at 0x7f9e208695d0>>: AttributeError: module 'gast' has no attribute 'Index'\n",
            "WARNING:tensorflow:Entity <bound method Dense.call of <tensorflow.python.layers.core.Dense object at 0x7f9e21ba8610>> could not be transformed and will be executed as-is. Please report this to the AutgoGraph team. When filing the bug, set the verbosity to 10 (on Linux, `export AUTOGRAPH_VERBOSITY=10`) and attach the full output. Cause: converting <bound method Dense.call of <tensorflow.python.layers.core.Dense object at 0x7f9e21ba8610>>: AttributeError: module 'gast' has no attribute 'Index'\n",
            "WARNING: Entity <bound method Dense.call of <tensorflow.python.layers.core.Dense object at 0x7f9e21ba8610>> could not be transformed and will be executed as-is. Please report this to the AutgoGraph team. When filing the bug, set the verbosity to 10 (on Linux, `export AUTOGRAPH_VERBOSITY=10`) and attach the full output. Cause: converting <bound method Dense.call of <tensorflow.python.layers.core.Dense object at 0x7f9e21ba8610>>: AttributeError: module 'gast' has no attribute 'Index'\n"
          ]
        }
      ]
    },
    {
      "cell_type": "code",
      "source": [
        "sess = tf.Session()\n",
        "r2_train, r2_valid = model.train(sess, dl, dl_valid, model_valid)"
      ],
      "metadata": {
        "colab": {
          "base_uri": "https://localhost:8080/"
        },
        "id": "qRk18vpSBTEx",
        "outputId": "df7055a1-6d90-4a70-f708-d2d8556ee619"
      },
      "execution_count": null,
      "outputs": [
        {
          "output_type": "stream",
          "name": "stdout",
          "text": [
            "\n",
            "\n",
            "\n",
            ">==================> Doing epoch 0\n",
            ">==================> Epoch 0 train/valid loss: 0.0488/0.0405\n",
            ">==================> Epoch 0 train/valid R-Squared: -1.7135/-4.2752\n",
            ">==================> Saving current best checkpoint\n"
          ]
        }
      ]
    },
    {
      "cell_type": "code",
      "source": [
        "plt.figure(figsize=(8,6))\n",
        "plt.plot(r2_train, label='train')\n",
        "plt.plot(r2_valid, label='valid')\n",
        "plt.xlabel('epoch', fontsize=15)\n",
        "plt.ylabel('R-Squared', fontsize=15)\n",
        "plt.title('R-Squared of training set / validation set', fontsize=20)\n",
        "plt.legend()\n",
        "plt.show()"
      ],
      "metadata": {
        "id": "gA8crPTfoXGL",
        "colab": {
          "base_uri": "https://localhost:8080/",
          "height": 414
        },
        "outputId": "bc7c04ea-0251-4126-ef72-d23bcdac07af"
      },
      "execution_count": null,
      "outputs": [
        {
          "output_type": "display_data",
          "data": {
            "text/plain": [
              "<Figure size 576x432 with 1 Axes>"
            ],
            "image/png": "[encoded data removed]"
          },
          "metadata": {}
        }
      ]
    },
    {
      "cell_type": "code",
      "source": [
        "plt.figure(figsize=(8,6))\n",
        "plt.plot(r2_train[30:], label='train')\n",
        "plt.plot(r2_valid[30:], label='valid')\n",
        "plt.xlabel('epoch', fontsize=15)\n",
        "plt.ylabel('R-Squared', fontsize=15)\n",
        "plt.title('R-Squared of training set / validation set', fontsize=20)\n",
        "plt.legend()\n",
        "plt.show()\n"
      ],
      "metadata": {
        "colab": {
          "base_uri": "https://localhost:8080/",
          "height": 414
        },
        "id": "1trdDHzl7Pxa",
        "outputId": "f1993916-ab00-4d6d-b0fd-d45ca9700f09"
      },
      "execution_count": null,
      "outputs": [
        {
          "output_type": "display_data",
          "data": {
            "text/plain": [
              "<Figure size 576x432 with 1 Axes>"
            ],
            "image/png": "[encoded data removed]"
          },
          "metadata": {}
        }
      ]
    }
  ]
}