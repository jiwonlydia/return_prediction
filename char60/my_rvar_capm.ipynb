{
 "cells": [
  {
   "cell_type": "code",
   "execution_count": 1,
   "id": "bbb3a857",
   "metadata": {
    "ExecuteTime": {
     "end_time": "2022-03-17T06:51:32.770790Z",
     "start_time": "2022-03-17T06:51:32.363162Z"
    }
   },
   "outputs": [],
   "source": [
    "# CAPM residual variance\n",
    "# Note: Please use the latest version of pandas, this version should support returning to pd.Series after rolling\n",
    "# To get a faster speed, we split the big dataframe into small ones\n",
    "# Then using different process to calculate the variance\n",
    "# We use 20 process to calculate variance, you can change the number of process according to your CPU situation\n",
    "# You can use the following code to check your CPU situation\n",
    "# import multiprocessing\n",
    "# multiprocessing.cpu_count()\n",
    "\n",
    "import pandas as pd\n",
    "import numpy as np\n",
    "import datetime as dt\n",
    "import wrds\n",
    "from dateutil.relativedelta import *\n",
    "from pandas.tseries.offsets import *\n",
    "import datetime\n",
    "import pickle as pkl\n",
    "import pyarrow.feather as feather\n",
    "import multiprocessing as mp"
   ]
  },
  {
   "cell_type": "code",
   "execution_count": 2,
   "id": "78c85ec7",
   "metadata": {
    "ExecuteTime": {
     "end_time": "2022-03-17T06:54:35.517331Z",
     "start_time": "2022-03-17T06:52:51.799239Z"
    }
   },
   "outputs": [
    {
     "name": "stdout",
     "output_type": "stream",
     "text": [
      "Enter your WRDS username [jiwonpark]:hangsuck\n",
      "Enter your password:········\n",
      "WRDS recommends setting up a .pgpass file.\n",
      "Create .pgpass file now [y/n]?: y\n",
      "Created .pgpass file successfully.\n",
      "Loading library list...\n",
      "Done\n"
     ]
    }
   ],
   "source": [
    "###################\n",
    "# Connect to WRDS #\n",
    "###################\n",
    "conn = wrds.Connection()\n",
    "# start_date = '01/01/1996'\n",
    "# end_date = '12/31/1997'\n",
    "\n",
    "# CRSP Block\n",
    "crsp = conn.raw_sql(\"\"\"\n",
    "                      select a.permno, a.date, a.ret, b.rf, b.mktrf\n",
    "                      from crsp.dsf as a\n",
    "                      left join ff.factors_daily as b\n",
    "                      on a.date=b.date\n",
    "                      where a.date >= '01/01/1996'\n",
    "                      and a.date <= '12/31/1997'\n",
    "                      \"\"\")"
   ]
  },
  {
   "cell_type": "code",
   "execution_count": 3,
   "id": "6c6d079b",
   "metadata": {
    "ExecuteTime": {
     "end_time": "2022-03-17T06:55:00.983546Z",
     "start_time": "2022-03-17T06:54:58.898310Z"
    }
   },
   "outputs": [],
   "source": [
    "# sort variables by permno and date\n",
    "crsp = crsp.sort_values(by=['permno', 'date'])\n",
    "\n",
    "# change variable format to int\n",
    "crsp['permno'] = crsp['permno'].astype(int)\n",
    "\n",
    "# Line up date to be end of month\n",
    "crsp['date'] = pd.to_datetime(crsp['date'])\n"
   ]
  },
  {
   "cell_type": "code",
   "execution_count": 4,
   "id": "115d83d2",
   "metadata": {
    "ExecuteTime": {
     "end_time": "2022-03-17T06:55:03.387960Z",
     "start_time": "2022-03-17T06:55:01.588399Z"
    }
   },
   "outputs": [],
   "source": [
    "# add delisting return\n",
    "dlret = conn.raw_sql(\"\"\"\n",
    "                     select permno, dlret, dlstdt \n",
    "                     from crsp.dsedelist\n",
    "                     \"\"\")"
   ]
  },
  {
   "cell_type": "code",
   "execution_count": 5,
   "id": "6bb3d709",
   "metadata": {
    "ExecuteTime": {
     "end_time": "2022-03-17T06:55:03.405997Z",
     "start_time": "2022-03-17T06:55:03.398997Z"
    }
   },
   "outputs": [],
   "source": [
    "dlret.permno = dlret.permno.astype(int)\n",
    "dlret['dlstdt'] = pd.to_datetime(dlret['dlstdt'])\n",
    "dlret['date'] = dlret['dlstdt']"
   ]
  },
  {
   "cell_type": "code",
   "execution_count": 6,
   "id": "d665121e",
   "metadata": {
    "ExecuteTime": {
     "end_time": "2022-03-17T06:55:04.891439Z",
     "start_time": "2022-03-17T06:55:04.028142Z"
    }
   },
   "outputs": [],
   "source": [
    "# merge delisting return to crsp return\n",
    "crsp = pd.merge(crsp, dlret, how='left', on=['permno', 'date'])\n",
    "crsp['dlret'] = crsp['dlret'].fillna(0)\n",
    "crsp['ret'] = crsp['ret'].fillna(0)\n",
    "crsp['retadj'] = (1 + crsp['ret']) * (1 + crsp['dlret']) - 1\n",
    "crsp['exret'] = crsp['retadj'] - crsp['rf']"
   ]
  },
  {
   "cell_type": "code",
   "execution_count": 7,
   "id": "3f911306",
   "metadata": {
    "ExecuteTime": {
     "end_time": "2022-03-17T06:55:16.345105Z",
     "start_time": "2022-03-17T06:55:13.150927Z"
    }
   },
   "outputs": [],
   "source": [
    "# find the closest trading day to the end of the month\n",
    "crsp['monthend'] = crsp['date'] + MonthEnd(0)\n",
    "crsp['date_diff'] = crsp['monthend'] - crsp['date']\n",
    "date_temp = crsp.groupby(['permno', 'monthend'])['date_diff'].min()\n",
    "date_temp = pd.DataFrame(date_temp)  # convert Series to DataFrame\n",
    "date_temp.reset_index(inplace=True)\n",
    "date_temp.rename(columns={'date_diff': 'min_diff'}, inplace=True)\n",
    "crsp = pd.merge(crsp, date_temp, how='left', on=['permno', 'monthend'])\n",
    "crsp['sig'] = np.where(crsp['date_diff'] == crsp['min_diff'], 1, np.nan)\n",
    "\n",
    "# label every date of month end\n",
    "crsp['month_count'] = crsp[crsp['sig'] == 1].groupby(['permno']).cumcount()\n",
    "\n",
    "# label numbers of months for a firm\n",
    "month_num = crsp[crsp['sig'] == 1].groupby(['permno'])['month_count'].tail(1)\n",
    "month_num = month_num.astype(int)\n",
    "month_num = month_num.reset_index(drop=True)\n",
    "\n",
    "# mark the number of each month to each day of this month\n",
    "crsp['month_count'] = crsp.groupby(['permno'])['month_count'].fillna(method='bfill')\n",
    "\n",
    "# crate a firm list\n",
    "df_firm = crsp.drop_duplicates(['permno'])\n",
    "df_firm = df_firm[['permno']]\n",
    "df_firm['permno'] = df_firm['permno'].astype(int)\n",
    "df_firm = df_firm.reset_index(drop=True)\n",
    "df_firm = df_firm.reset_index()\n",
    "df_firm = df_firm.rename(columns={'index': 'count'})\n",
    "df_firm['month_num'] = month_num"
   ]
  },
  {
   "cell_type": "code",
   "execution_count": 8,
   "id": "6b414d54",
   "metadata": {
    "ExecuteTime": {
     "end_time": "2022-03-17T06:55:28.240530Z",
     "start_time": "2022-03-17T06:55:28.213851Z"
    }
   },
   "outputs": [],
   "source": [
    "######################\n",
    "# Calculate residual #\n",
    "######################\n",
    "\n",
    "\n",
    "def get_res_var(df, firm_list):\n",
    "    \"\"\"\n",
    "\n",
    "    :param df: stock dataframe\n",
    "    :param firm_list: list of firms matching stock dataframe\n",
    "    :return: dataframe with variance of residual\n",
    "    \"\"\"\n",
    "    for firm, count, prog in zip(firm_list['permno'], firm_list['month_num'], range(firm_list['permno'].count()+1)):\n",
    "        prog = prog + 1\n",
    "        print('processing permno %s' % firm, '/', 'finished', '%.2f%%' % ((prog/firm_list['permno'].count())*100))\n",
    "        for i in range(count + 1):\n",
    "            # if you want to change the rolling window, please change here: i - 2 means 3 months is a window.\n",
    "            temp = df[(df['permno'] == firm) & (i - 2 <= df['month_count']) & (df['month_count'] <= i)]\n",
    "            # if observations in last 3 months are less 21, we drop the rvar of this month\n",
    "            if temp['permno'].count() < 21:\n",
    "                pass\n",
    "            else:\n",
    "                rolling_window = temp['permno'].count()\n",
    "                index = temp.tail(1).index\n",
    "                X = pd.DataFrame()\n",
    "                X[['mktrf']] = temp[['mktrf']]\n",
    "                X['intercept'] = 1\n",
    "                X = X[['intercept', 'mktrf']]\n",
    "                X = np.mat(X)\n",
    "                Y = np.mat(temp[['exret']])\n",
    "                res = (np.identity(rolling_window) - X.dot(X.T.dot(X).I).dot(X.T)).dot(Y)\n",
    "                res_var = res.var(ddof=1)\n",
    "                df.loc[index, 'rvar'] = res_var\n",
    "    return df\n",
    "\n",
    "\n",
    "def sub_df(start, end, step):\n",
    "    \"\"\"\n",
    "\n",
    "    :param start: the quantile to start cutting, usually it should be 0\n",
    "    :param end: the quantile to end cutting, usually it should be 1\n",
    "    :param step: quantile step\n",
    "    :return: a dictionary including all the 'firm_list' dataframe and 'stock data' dataframe\n",
    "    \"\"\"\n",
    "    # we use dict to store different sub dataframe\n",
    "    temp = {}\n",
    "    for i, h in zip(np.arange(start, end, step), range(int((end-start)/step))):\n",
    "        print('processing splitting dataframe:', round(i, 2), 'to', round(i + step, 2))\n",
    "        if i == 0:  # to get the left point\n",
    "            temp['firm' + str(h)] = df_firm[df_firm['count'] <= df_firm['count'].quantile(i + step)]\n",
    "            temp['crsp' + str(h)] = pd.merge(crsp, temp['firm' + str(h)], how='left',\n",
    "                                             on='permno').dropna(subset=['count'])\n",
    "        else:\n",
    "            temp['firm' + str(h)] = df_firm[(df_firm['count'].quantile(i) < df_firm['count']) & (\n",
    "                    df_firm['count'] <= df_firm['count'].quantile(i + step))]\n",
    "            temp['crsp' + str(h)] = pd.merge(crsp, temp['firm' + str(h)], how='left',\n",
    "                                             on='permno').dropna(subset=['count'])\n",
    "    return temp\n",
    "\n",
    "\n",
    "def main(start, end, step):\n",
    "    \"\"\"\n",
    "\n",
    "    :param start: the quantile to start cutting, usually it should be 0\n",
    "    :param end: the quantile to end cutting, usually it should be 1\n",
    "    :param step: quantile step\n",
    "    :return: a dataframe with calculated variance of residual\n",
    "    \"\"\"\n",
    "    df = sub_df(start, end, step)\n",
    "    pool = mp.Pool()\n",
    "    p_dict = {}\n",
    "    for i in range(int((end-start)/step)):\n",
    "        p_dict['p' + str(i)] = pool.apply_async(get_res_var, (df['crsp%s' % i], df['firm%s' % i],))\n",
    "    pool.close()\n",
    "    pool.join()\n",
    "    result = pd.DataFrame()\n",
    "    print('processing pd.concat')\n",
    "    for h in range(int((end-start)/step)):\n",
    "        result = pd.concat([result, p_dict['p%s' % h].get()])\n",
    "    return result"
   ]
  },
  {
   "cell_type": "code",
   "execution_count": 9,
   "id": "2df94f6f",
   "metadata": {
    "ExecuteTime": {
     "end_time": "2022-03-17T06:58:14.671233Z",
     "start_time": "2022-03-17T06:55:36.987927Z"
    }
   },
   "outputs": [
    {
     "name": "stdout",
     "output_type": "stream",
     "text": [
      "processing splitting dataframe: 0.0 to 0.25\n",
      "processing splitting dataframe: 0.25 to 0.5\n",
      "processing splitting dataframe: 0.5 to 0.75\n",
      "processing splitting dataframe: 0.75 to 1.0\n"
     ]
    },
    {
     "name": "stderr",
     "output_type": "stream",
     "text": [
      "Process SpawnPoolWorker-1:\n",
      "Traceback (most recent call last):\n",
      "  File \"/Users/jiwonpark/opt/anaconda3/lib/python3.8/multiprocessing/process.py\", line 315, in _bootstrap\n",
      "    self.run()\n",
      "  File \"/Users/jiwonpark/opt/anaconda3/lib/python3.8/multiprocessing/process.py\", line 108, in run\n",
      "    self._target(*self._args, **self._kwargs)\n",
      "  File \"/Users/jiwonpark/opt/anaconda3/lib/python3.8/multiprocessing/pool.py\", line 114, in worker\n",
      "    task = get()\n",
      "  File \"/Users/jiwonpark/opt/anaconda3/lib/python3.8/multiprocessing/queues.py\", line 358, in get\n",
      "    return _ForkingPickler.loads(res)\n",
      "AttributeError: Can't get attribute 'get_res_var' on <module '__main__' (built-in)>\n",
      "Process SpawnPoolWorker-2:\n",
      "Traceback (most recent call last):\n",
      "  File \"/Users/jiwonpark/opt/anaconda3/lib/python3.8/multiprocessing/process.py\", line 315, in _bootstrap\n",
      "    self.run()\n",
      "  File \"/Users/jiwonpark/opt/anaconda3/lib/python3.8/multiprocessing/process.py\", line 108, in run\n",
      "    self._target(*self._args, **self._kwargs)\n",
      "  File \"/Users/jiwonpark/opt/anaconda3/lib/python3.8/multiprocessing/pool.py\", line 114, in worker\n",
      "    task = get()\n",
      "  File \"/Users/jiwonpark/opt/anaconda3/lib/python3.8/multiprocessing/queues.py\", line 358, in get\n",
      "    return _ForkingPickler.loads(res)\n",
      "AttributeError: Can't get attribute 'get_res_var' on <module '__main__' (built-in)>\n",
      "Process SpawnPoolWorker-4:\n",
      "Traceback (most recent call last):\n",
      "  File \"/Users/jiwonpark/opt/anaconda3/lib/python3.8/multiprocessing/process.py\", line 315, in _bootstrap\n",
      "    self.run()\n",
      "  File \"/Users/jiwonpark/opt/anaconda3/lib/python3.8/multiprocessing/process.py\", line 108, in run\n",
      "    self._target(*self._args, **self._kwargs)\n",
      "  File \"/Users/jiwonpark/opt/anaconda3/lib/python3.8/multiprocessing/pool.py\", line 114, in worker\n",
      "    task = get()\n",
      "  File \"/Users/jiwonpark/opt/anaconda3/lib/python3.8/multiprocessing/queues.py\", line 358, in get\n",
      "    return _ForkingPickler.loads(res)\n",
      "AttributeError: Can't get attribute 'get_res_var' on <module '__main__' (built-in)>\n",
      "Process SpawnPoolWorker-3:\n",
      "Traceback (most recent call last):\n",
      "  File \"/Users/jiwonpark/opt/anaconda3/lib/python3.8/multiprocessing/process.py\", line 315, in _bootstrap\n",
      "    self.run()\n",
      "  File \"/Users/jiwonpark/opt/anaconda3/lib/python3.8/multiprocessing/process.py\", line 108, in run\n",
      "    self._target(*self._args, **self._kwargs)\n",
      "  File \"/Users/jiwonpark/opt/anaconda3/lib/python3.8/multiprocessing/pool.py\", line 114, in worker\n",
      "    task = get()\n",
      "  File \"/Users/jiwonpark/opt/anaconda3/lib/python3.8/multiprocessing/queues.py\", line 358, in get\n",
      "    return _ForkingPickler.loads(res)\n",
      "AttributeError: Can't get attribute 'get_res_var' on <module '__main__' (built-in)>\n",
      "Process SpawnPoolWorker-9:\n",
      "Traceback (most recent call last):\n",
      "  File \"/Users/jiwonpark/opt/anaconda3/lib/python3.8/multiprocessing/process.py\", line 315, in _bootstrap\n",
      "    self.run()\n",
      "  File \"/Users/jiwonpark/opt/anaconda3/lib/python3.8/multiprocessing/process.py\", line 108, in run\n",
      "    self._target(*self._args, **self._kwargs)\n",
      "  File \"/Users/jiwonpark/opt/anaconda3/lib/python3.8/multiprocessing/pool.py\", line 114, in worker\n",
      "    task = get()\n",
      "  File \"/Users/jiwonpark/opt/anaconda3/lib/python3.8/multiprocessing/queues.py\", line 355, in get\n",
      "    with self._rlock:\n",
      "  File \"/Users/jiwonpark/opt/anaconda3/lib/python3.8/multiprocessing/synchronize.py\", line 95, in __enter__\n",
      "    return self._semlock.__enter__()\n",
      "KeyboardInterrupt\n",
      "Process SpawnPoolWorker-6:\n",
      "Traceback (most recent call last):\n",
      "  File \"/Users/jiwonpark/opt/anaconda3/lib/python3.8/multiprocessing/process.py\", line 315, in _bootstrap\n",
      "    self.run()\n",
      "  File \"/Users/jiwonpark/opt/anaconda3/lib/python3.8/multiprocessing/process.py\", line 108, in run\n",
      "    self._target(*self._args, **self._kwargs)\n",
      "  File \"/Users/jiwonpark/opt/anaconda3/lib/python3.8/multiprocessing/pool.py\", line 114, in worker\n",
      "    task = get()\n",
      "  File \"/Users/jiwonpark/opt/anaconda3/lib/python3.8/multiprocessing/queues.py\", line 355, in get\n",
      "    with self._rlock:\n",
      "  File \"/Users/jiwonpark/opt/anaconda3/lib/python3.8/multiprocessing/synchronize.py\", line 95, in __enter__\n",
      "    return self._semlock.__enter__()\n",
      "KeyboardInterrupt\n",
      "Process SpawnPoolWorker-7:\n",
      "Traceback (most recent call last):\n",
      "  File \"/Users/jiwonpark/opt/anaconda3/lib/python3.8/multiprocessing/process.py\", line 315, in _bootstrap\n",
      "    self.run()\n",
      "  File \"/Users/jiwonpark/opt/anaconda3/lib/python3.8/multiprocessing/process.py\", line 108, in run\n",
      "    self._target(*self._args, **self._kwargs)\n",
      "  File \"/Users/jiwonpark/opt/anaconda3/lib/python3.8/multiprocessing/pool.py\", line 114, in worker\n",
      "    task = get()\n",
      "  File \"/Users/jiwonpark/opt/anaconda3/lib/python3.8/multiprocessing/queues.py\", line 355, in get\n",
      "    with self._rlock:\n",
      "  File \"/Users/jiwonpark/opt/anaconda3/lib/python3.8/multiprocessing/synchronize.py\", line 95, in __enter__\n",
      "    return self._semlock.__enter__()\n",
      "KeyboardInterrupt\n",
      "Process SpawnPoolWorker-10:\n",
      "Traceback (most recent call last):\n",
      "  File \"/Users/jiwonpark/opt/anaconda3/lib/python3.8/multiprocessing/process.py\", line 315, in _bootstrap\n",
      "    self.run()\n",
      "  File \"/Users/jiwonpark/opt/anaconda3/lib/python3.8/multiprocessing/process.py\", line 108, in run\n",
      "    self._target(*self._args, **self._kwargs)\n",
      "  File \"/Users/jiwonpark/opt/anaconda3/lib/python3.8/multiprocessing/pool.py\", line 114, in worker\n",
      "    task = get()\n",
      "  File \"/Users/jiwonpark/opt/anaconda3/lib/python3.8/multiprocessing/queues.py\", line 355, in get\n",
      "    with self._rlock:\n",
      "  File \"/Users/jiwonpark/opt/anaconda3/lib/python3.8/multiprocessing/synchronize.py\", line 95, in __enter__\n",
      "    return self._semlock.__enter__()\n",
      "KeyboardInterrupt\n",
      "Process SpawnPoolWorker-5:\n",
      "Traceback (most recent call last):\n",
      "  File \"/Users/jiwonpark/opt/anaconda3/lib/python3.8/multiprocessing/process.py\", line 315, in _bootstrap\n",
      "    self.run()\n",
      "  File \"/Users/jiwonpark/opt/anaconda3/lib/python3.8/multiprocessing/process.py\", line 108, in run\n",
      "    self._target(*self._args, **self._kwargs)\n",
      "  File \"/Users/jiwonpark/opt/anaconda3/lib/python3.8/multiprocessing/pool.py\", line 114, in worker\n",
      "    task = get()\n",
      "  File \"/Users/jiwonpark/opt/anaconda3/lib/python3.8/multiprocessing/queues.py\", line 356, in get\n",
      "    res = self._reader.recv_bytes()\n",
      "  File \"/Users/jiwonpark/opt/anaconda3/lib/python3.8/multiprocessing/connection.py\", line 216, in recv_bytes\n",
      "    buf = self._recv_bytes(maxlength)\n",
      "  File \"/Users/jiwonpark/opt/anaconda3/lib/python3.8/multiprocessing/connection.py\", line 414, in _recv_bytes\n",
      "    buf = self._recv(4)\n",
      "  File \"/Users/jiwonpark/opt/anaconda3/lib/python3.8/multiprocessing/connection.py\", line 379, in _recv\n",
      "    chunk = read(handle, remaining)\n",
      "KeyboardInterrupt\n",
      "Process SpawnPoolWorker-8:\n",
      "Traceback (most recent call last):\n",
      "  File \"/Users/jiwonpark/opt/anaconda3/lib/python3.8/multiprocessing/process.py\", line 315, in _bootstrap\n",
      "    self.run()\n",
      "  File \"/Users/jiwonpark/opt/anaconda3/lib/python3.8/multiprocessing/process.py\", line 108, in run\n",
      "    self._target(*self._args, **self._kwargs)\n",
      "  File \"/Users/jiwonpark/opt/anaconda3/lib/python3.8/multiprocessing/pool.py\", line 114, in worker\n",
      "    task = get()\n",
      "  File \"/Users/jiwonpark/opt/anaconda3/lib/python3.8/multiprocessing/queues.py\", line 355, in get\n",
      "    with self._rlock:\n",
      "  File \"/Users/jiwonpark/opt/anaconda3/lib/python3.8/multiprocessing/synchronize.py\", line 95, in __enter__\n",
      "    return self._semlock.__enter__()\n",
      "KeyboardInterrupt\n",
      "Process SpawnPoolWorker-12:\n",
      "Traceback (most recent call last):\n",
      "  File \"/Users/jiwonpark/opt/anaconda3/lib/python3.8/multiprocessing/process.py\", line 315, in _bootstrap\n",
      "    self.run()\n",
      "  File \"/Users/jiwonpark/opt/anaconda3/lib/python3.8/multiprocessing/process.py\", line 108, in run\n",
      "    self._target(*self._args, **self._kwargs)\n",
      "  File \"/Users/jiwonpark/opt/anaconda3/lib/python3.8/multiprocessing/pool.py\", line 114, in worker\n",
      "    task = get()\n",
      "  File \"/Users/jiwonpark/opt/anaconda3/lib/python3.8/multiprocessing/queues.py\", line 355, in get\n",
      "    with self._rlock:\n",
      "  File \"/Users/jiwonpark/opt/anaconda3/lib/python3.8/multiprocessing/synchronize.py\", line 95, in __enter__\n",
      "    return self._semlock.__enter__()\n",
      "KeyboardInterrupt\n",
      "Process SpawnPoolWorker-11:\n",
      "Traceback (most recent call last):\n",
      "  File \"/Users/jiwonpark/opt/anaconda3/lib/python3.8/multiprocessing/process.py\", line 315, in _bootstrap\n",
      "    self.run()\n",
      "  File \"/Users/jiwonpark/opt/anaconda3/lib/python3.8/multiprocessing/process.py\", line 108, in run\n",
      "    self._target(*self._args, **self._kwargs)\n",
      "  File \"/Users/jiwonpark/opt/anaconda3/lib/python3.8/multiprocessing/pool.py\", line 114, in worker\n",
      "    task = get()\n",
      "  File \"/Users/jiwonpark/opt/anaconda3/lib/python3.8/multiprocessing/queues.py\", line 355, in get\n",
      "    with self._rlock:\n",
      "  File \"/Users/jiwonpark/opt/anaconda3/lib/python3.8/multiprocessing/synchronize.py\", line 95, in __enter__\n",
      "    return self._semlock.__enter__()\n",
      "KeyboardInterrupt\n"
     ]
    },
    {
     "ename": "KeyboardInterrupt",
     "evalue": "",
     "output_type": "error",
     "traceback": [
      "\u001b[0;31m---------------------------------------------------------------------------\u001b[0m",
      "\u001b[0;31mKeyboardInterrupt\u001b[0m                         Traceback (most recent call last)",
      "\u001b[0;32m/var/folders/lp/33v6zfq17kl531_hmpb5rwph0000gn/T/ipykernel_36337/1279364961.py\u001b[0m in \u001b[0;36m<module>\u001b[0;34m\u001b[0m\n\u001b[1;32m      3\u001b[0m \u001b[0;31m# dataframes here, so the function will use 20 cores to calculate variance of residual.\u001b[0m\u001b[0;34m\u001b[0m\u001b[0;34m\u001b[0m\u001b[0;34m\u001b[0m\u001b[0m\n\u001b[1;32m      4\u001b[0m \u001b[0;32mif\u001b[0m \u001b[0m__name__\u001b[0m \u001b[0;34m==\u001b[0m \u001b[0;34m'__main__'\u001b[0m\u001b[0;34m:\u001b[0m\u001b[0;34m\u001b[0m\u001b[0;34m\u001b[0m\u001b[0m\n\u001b[0;32m----> 5\u001b[0;31m     \u001b[0mcrsp\u001b[0m \u001b[0;34m=\u001b[0m \u001b[0mmain\u001b[0m\u001b[0;34m(\u001b[0m\u001b[0;36m0\u001b[0m\u001b[0;34m,\u001b[0m \u001b[0;36m1\u001b[0m\u001b[0;34m,\u001b[0m \u001b[0;36m0.25\u001b[0m\u001b[0;34m)\u001b[0m\u001b[0;34m\u001b[0m\u001b[0;34m\u001b[0m\u001b[0m\n\u001b[0m\u001b[1;32m      6\u001b[0m \u001b[0;34m\u001b[0m\u001b[0m\n\u001b[1;32m      7\u001b[0m \u001b[0;31m# process dataframe\u001b[0m\u001b[0;34m\u001b[0m\u001b[0;34m\u001b[0m\u001b[0;34m\u001b[0m\u001b[0m\n",
      "\u001b[0;32m/var/folders/lp/33v6zfq17kl531_hmpb5rwph0000gn/T/ipykernel_36337/714431860.py\u001b[0m in \u001b[0;36mmain\u001b[0;34m(start, end, step)\u001b[0m\n\u001b[1;32m     73\u001b[0m         \u001b[0mp_dict\u001b[0m\u001b[0;34m[\u001b[0m\u001b[0;34m'p'\u001b[0m \u001b[0;34m+\u001b[0m \u001b[0mstr\u001b[0m\u001b[0;34m(\u001b[0m\u001b[0mi\u001b[0m\u001b[0;34m)\u001b[0m\u001b[0;34m]\u001b[0m \u001b[0;34m=\u001b[0m \u001b[0mpool\u001b[0m\u001b[0;34m.\u001b[0m\u001b[0mapply_async\u001b[0m\u001b[0;34m(\u001b[0m\u001b[0mget_res_var\u001b[0m\u001b[0;34m,\u001b[0m \u001b[0;34m(\u001b[0m\u001b[0mdf\u001b[0m\u001b[0;34m[\u001b[0m\u001b[0;34m'crsp%s'\u001b[0m \u001b[0;34m%\u001b[0m \u001b[0mi\u001b[0m\u001b[0;34m]\u001b[0m\u001b[0;34m,\u001b[0m \u001b[0mdf\u001b[0m\u001b[0;34m[\u001b[0m\u001b[0;34m'firm%s'\u001b[0m \u001b[0;34m%\u001b[0m \u001b[0mi\u001b[0m\u001b[0;34m]\u001b[0m\u001b[0;34m,\u001b[0m\u001b[0;34m)\u001b[0m\u001b[0;34m)\u001b[0m\u001b[0;34m\u001b[0m\u001b[0;34m\u001b[0m\u001b[0m\n\u001b[1;32m     74\u001b[0m     \u001b[0mpool\u001b[0m\u001b[0;34m.\u001b[0m\u001b[0mclose\u001b[0m\u001b[0;34m(\u001b[0m\u001b[0;34m)\u001b[0m\u001b[0;34m\u001b[0m\u001b[0;34m\u001b[0m\u001b[0m\n\u001b[0;32m---> 75\u001b[0;31m     \u001b[0mpool\u001b[0m\u001b[0;34m.\u001b[0m\u001b[0mjoin\u001b[0m\u001b[0;34m(\u001b[0m\u001b[0;34m)\u001b[0m\u001b[0;34m\u001b[0m\u001b[0;34m\u001b[0m\u001b[0m\n\u001b[0m\u001b[1;32m     76\u001b[0m     \u001b[0mresult\u001b[0m \u001b[0;34m=\u001b[0m \u001b[0mpd\u001b[0m\u001b[0;34m.\u001b[0m\u001b[0mDataFrame\u001b[0m\u001b[0;34m(\u001b[0m\u001b[0;34m)\u001b[0m\u001b[0;34m\u001b[0m\u001b[0;34m\u001b[0m\u001b[0m\n\u001b[1;32m     77\u001b[0m     \u001b[0mprint\u001b[0m\u001b[0;34m(\u001b[0m\u001b[0;34m'processing pd.concat'\u001b[0m\u001b[0;34m)\u001b[0m\u001b[0;34m\u001b[0m\u001b[0;34m\u001b[0m\u001b[0m\n",
      "\u001b[0;32m~/opt/anaconda3/lib/python3.8/multiprocessing/pool.py\u001b[0m in \u001b[0;36mjoin\u001b[0;34m(self)\u001b[0m\n\u001b[1;32m    662\u001b[0m         \u001b[0;32melif\u001b[0m \u001b[0mself\u001b[0m\u001b[0;34m.\u001b[0m\u001b[0m_state\u001b[0m \u001b[0;32mnot\u001b[0m \u001b[0;32min\u001b[0m \u001b[0;34m(\u001b[0m\u001b[0mCLOSE\u001b[0m\u001b[0;34m,\u001b[0m \u001b[0mTERMINATE\u001b[0m\u001b[0;34m)\u001b[0m\u001b[0;34m:\u001b[0m\u001b[0;34m\u001b[0m\u001b[0;34m\u001b[0m\u001b[0m\n\u001b[1;32m    663\u001b[0m             \u001b[0;32mraise\u001b[0m \u001b[0mValueError\u001b[0m\u001b[0;34m(\u001b[0m\u001b[0;34m\"In unknown state\"\u001b[0m\u001b[0;34m)\u001b[0m\u001b[0;34m\u001b[0m\u001b[0;34m\u001b[0m\u001b[0m\n\u001b[0;32m--> 664\u001b[0;31m         \u001b[0mself\u001b[0m\u001b[0;34m.\u001b[0m\u001b[0m_worker_handler\u001b[0m\u001b[0;34m.\u001b[0m\u001b[0mjoin\u001b[0m\u001b[0;34m(\u001b[0m\u001b[0;34m)\u001b[0m\u001b[0;34m\u001b[0m\u001b[0;34m\u001b[0m\u001b[0m\n\u001b[0m\u001b[1;32m    665\u001b[0m         \u001b[0mself\u001b[0m\u001b[0;34m.\u001b[0m\u001b[0m_task_handler\u001b[0m\u001b[0;34m.\u001b[0m\u001b[0mjoin\u001b[0m\u001b[0;34m(\u001b[0m\u001b[0;34m)\u001b[0m\u001b[0;34m\u001b[0m\u001b[0;34m\u001b[0m\u001b[0m\n\u001b[1;32m    666\u001b[0m         \u001b[0mself\u001b[0m\u001b[0;34m.\u001b[0m\u001b[0m_result_handler\u001b[0m\u001b[0;34m.\u001b[0m\u001b[0mjoin\u001b[0m\u001b[0;34m(\u001b[0m\u001b[0;34m)\u001b[0m\u001b[0;34m\u001b[0m\u001b[0;34m\u001b[0m\u001b[0m\n",
      "\u001b[0;32m~/opt/anaconda3/lib/python3.8/threading.py\u001b[0m in \u001b[0;36mjoin\u001b[0;34m(self, timeout)\u001b[0m\n\u001b[1;32m   1009\u001b[0m \u001b[0;34m\u001b[0m\u001b[0m\n\u001b[1;32m   1010\u001b[0m         \u001b[0;32mif\u001b[0m \u001b[0mtimeout\u001b[0m \u001b[0;32mis\u001b[0m \u001b[0;32mNone\u001b[0m\u001b[0;34m:\u001b[0m\u001b[0;34m\u001b[0m\u001b[0;34m\u001b[0m\u001b[0m\n\u001b[0;32m-> 1011\u001b[0;31m             \u001b[0mself\u001b[0m\u001b[0;34m.\u001b[0m\u001b[0m_wait_for_tstate_lock\u001b[0m\u001b[0;34m(\u001b[0m\u001b[0;34m)\u001b[0m\u001b[0;34m\u001b[0m\u001b[0;34m\u001b[0m\u001b[0m\n\u001b[0m\u001b[1;32m   1012\u001b[0m         \u001b[0;32melse\u001b[0m\u001b[0;34m:\u001b[0m\u001b[0;34m\u001b[0m\u001b[0;34m\u001b[0m\u001b[0m\n\u001b[1;32m   1013\u001b[0m             \u001b[0;31m# the behavior of a negative timeout isn't documented, but\u001b[0m\u001b[0;34m\u001b[0m\u001b[0;34m\u001b[0m\u001b[0;34m\u001b[0m\u001b[0m\n",
      "\u001b[0;32m~/opt/anaconda3/lib/python3.8/threading.py\u001b[0m in \u001b[0;36m_wait_for_tstate_lock\u001b[0;34m(self, block, timeout)\u001b[0m\n\u001b[1;32m   1025\u001b[0m         \u001b[0;32mif\u001b[0m \u001b[0mlock\u001b[0m \u001b[0;32mis\u001b[0m \u001b[0;32mNone\u001b[0m\u001b[0;34m:\u001b[0m  \u001b[0;31m# already determined that the C code is done\u001b[0m\u001b[0;34m\u001b[0m\u001b[0;34m\u001b[0m\u001b[0m\n\u001b[1;32m   1026\u001b[0m             \u001b[0;32massert\u001b[0m \u001b[0mself\u001b[0m\u001b[0;34m.\u001b[0m\u001b[0m_is_stopped\u001b[0m\u001b[0;34m\u001b[0m\u001b[0;34m\u001b[0m\u001b[0m\n\u001b[0;32m-> 1027\u001b[0;31m         \u001b[0;32melif\u001b[0m \u001b[0mlock\u001b[0m\u001b[0;34m.\u001b[0m\u001b[0macquire\u001b[0m\u001b[0;34m(\u001b[0m\u001b[0mblock\u001b[0m\u001b[0;34m,\u001b[0m \u001b[0mtimeout\u001b[0m\u001b[0;34m)\u001b[0m\u001b[0;34m:\u001b[0m\u001b[0;34m\u001b[0m\u001b[0;34m\u001b[0m\u001b[0m\n\u001b[0m\u001b[1;32m   1028\u001b[0m             \u001b[0mlock\u001b[0m\u001b[0;34m.\u001b[0m\u001b[0mrelease\u001b[0m\u001b[0;34m(\u001b[0m\u001b[0;34m)\u001b[0m\u001b[0;34m\u001b[0m\u001b[0;34m\u001b[0m\u001b[0m\n\u001b[1;32m   1029\u001b[0m             \u001b[0mself\u001b[0m\u001b[0;34m.\u001b[0m\u001b[0m_stop\u001b[0m\u001b[0;34m(\u001b[0m\u001b[0;34m)\u001b[0m\u001b[0;34m\u001b[0m\u001b[0;34m\u001b[0m\u001b[0m\n",
      "\u001b[0;31mKeyboardInterrupt\u001b[0m: "
     ]
    }
   ],
   "source": [
    "# calculate variance of residual through rolling window\n",
    "# Note: please split dataframe according to your CPU situation. For example, we split dataframe to (1-0)/0.05 = 20 sub\n",
    "# dataframes here, so the function will use 20 cores to calculate variance of residual.\n",
    "if __name__ == '__main__':\n",
    "    crsp = main(0, 1, 0.25)\n",
    "\n",
    "# process dataframe\n",
    "crsp = crsp.dropna(subset=['rvar'])  # drop NA due to rolling\n",
    "crsp = crsp.rename(columns={'rvar': 'rvar_capm'})\n",
    "crsp = crsp.reset_index(drop=True)\n",
    "crsp = crsp[['permno', 'date', 'rvar_capm']]\n",
    "\n",
    "with open('rvar_capm.feather', 'wb') as f:\n",
    "    feather.write_feather(crsp, f)"
   ]
  },
  {
   "cell_type": "code",
   "execution_count": null,
   "id": "6510370f",
   "metadata": {},
   "outputs": [],
   "source": []
  }
 ],
 "metadata": {
  "kernelspec": {
   "display_name": "Python 3 (ipykernel)",
   "language": "python",
   "name": "python3"
  },
  "language_info": {
   "codemirror_mode": {
    "name": "ipython",
    "version": 3
   },
   "file_extension": ".py",
   "mimetype": "text/x-python",
   "name": "python",
   "nbconvert_exporter": "python",
   "pygments_lexer": "ipython3",
   "version": "3.8.2"
  },
  "toc": {
   "base_numbering": 1,
   "nav_menu": {},
   "number_sections": true,
   "sideBar": true,
   "skip_h1_title": false,
   "title_cell": "Table of Contents",
   "title_sidebar": "Contents",
   "toc_cell": false,
   "toc_position": {},
   "toc_section_display": true,
   "toc_window_display": false
  },
  "varInspector": {
   "cols": {
    "lenName": 16,
    "lenType": 16,
    "lenVar": 40
   },
   "kernels_config": {
    "python": {
     "delete_cmd_postfix": "",
     "delete_cmd_prefix": "del ",
     "library": "var_list.py",
     "varRefreshCmd": "print(var_dic_list())"
    },
    "r": {
     "delete_cmd_postfix": ") ",
     "delete_cmd_prefix": "rm(",
     "library": "var_list.r",
     "varRefreshCmd": "cat(var_dic_list()) "
    }
   },
   "types_to_exclude": [
    "module",
    "function",
    "builtin_function_or_method",
    "instance",
    "_Feature"
   ],
   "window_display": false
  }
 },
 "nbformat": 4,
 "nbformat_minor": 5
}
